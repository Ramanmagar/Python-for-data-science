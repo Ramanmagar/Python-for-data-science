{
  "nbformat": 4,
  "nbformat_minor": 0,
  "metadata": {
    "colab": {
      "name": "Untitled5.ipynb",
      "provenance": [],
      "collapsed_sections": [],
      "authorship_tag": "ABX9TyM3jodWJoMuj25K1WIFiKr3",
      "include_colab_link": true
    },
    "kernelspec": {
      "name": "python3",
      "display_name": "Python 3"
    },
    "language_info": {
      "name": "python"
    }
  },
  "cells": [
    {
      "cell_type": "markdown",
      "metadata": {
        "id": "view-in-github",
        "colab_type": "text"
      },
      "source": [
        "<a href=\"https://colab.research.google.com/github/Ramanmagar/Python-for-data-science/blob/main/Untitled5.ipynb\" target=\"_parent\"><img src=\"https://colab.research.google.com/assets/colab-badge.svg\" alt=\"Open In Colab\"/></a>"
      ]
    },
    {
      "cell_type": "code",
      "execution_count": null,
      "metadata": {
        "id": "kPg4gd32S_81"
      },
      "outputs": [],
      "source": [
        "import numpy as np"
      ]
    },
    {
      "cell_type": "code",
      "source": [
        "np_array = np.ones((4,4))\n",
        "\n"
      ],
      "metadata": {
        "id": "1bWGcB5CTDtY"
      },
      "execution_count": null,
      "outputs": []
    },
    {
      "cell_type": "code",
      "source": [
        "np_array"
      ],
      "metadata": {
        "colab": {
          "base_uri": "https://localhost:8080/"
        },
        "id": "bvrauoF1TDw5",
        "outputId": "41e09d8d-f4db-4596-b1a5-650fa59c5d94"
      },
      "execution_count": null,
      "outputs": [
        {
          "output_type": "execute_result",
          "data": {
            "text/plain": [
              "array([[1., 1., 1., 1.],\n",
              "       [1., 1., 1., 1.],\n",
              "       [1., 1., 1., 1.],\n",
              "       [1., 1., 1., 1.]])"
            ]
          },
          "metadata": {},
          "execution_count": 3
        }
      ]
    },
    {
      "cell_type": "code",
      "source": [
        "### odd evan number program \n",
        "\n",
        "num = int(input(\"Enter the number: \"))\n",
        "\n",
        "if (num % 2) == 0:\n",
        "  print(\"{0} is even\".format(num))\n",
        "else:\n",
        "  print(\"{0} is odd\".format(num))"
      ],
      "metadata": {
        "id": "o_mpwTzITDz_",
        "colab": {
          "base_uri": "https://localhost:8080/"
        },
        "outputId": "8db99893-5e96-40e4-e511-e72afebbd145"
      },
      "execution_count": null,
      "outputs": [
        {
          "output_type": "stream",
          "name": "stdout",
          "text": [
            "Enter the number: 5\n",
            "5 is odd\n"
          ]
        }
      ]
    },
    {
      "cell_type": "code",
      "source": [
        "def PrimeChecker(num):\n",
        "  if num>1:\n",
        "    for j in range(2, num//2+1):\n",
        "      if num % j ==0:\n",
        "        print(\"is't prime number\")\n",
        "        break\n",
        "    else:\n",
        "      print(\"prime number\")\n",
        "  else:\n",
        "    print(\"is't prime\")\n",
        "\n",
        "num = int(input(\"Enter the number: \"))\n",
        "PrimeChecker(num)"
      ],
      "metadata": {
        "colab": {
          "base_uri": "https://localhost:8080/"
        },
        "id": "n_GawF7KZTVd",
        "outputId": "354574bb-12b6-4e5c-deec-011171c4b102"
      },
      "execution_count": null,
      "outputs": [
        {
          "output_type": "stream",
          "name": "stdout",
          "text": [
            "Enter the number: 15\n",
            "is't prime number\n"
          ]
        }
      ]
    },
    {
      "cell_type": "code",
      "source": [
        "n=int(input(\"Enter any number: \"))\n",
        "a=list(map(int,str(n)))\n",
        "b=list(map(lambda x:x**3,a))\n",
        "if(sum(b)==n):\n",
        "   print(\"The number is an armstrong number. \")\n",
        "else:\n",
        "   print(\"The number isn't an arsmtrong number. \")"
      ],
      "metadata": {
        "colab": {
          "base_uri": "https://localhost:8080/"
        },
        "id": "bMHGAjmuvq3Q",
        "outputId": "b6741789-d3e7-45ad-88d3-49e21a566ec1"
      },
      "execution_count": null,
      "outputs": [
        {
          "output_type": "stream",
          "name": "stdout",
          "text": [
            "Enter any number: 55\n",
            "The number isn't an arsmtrong number. \n"
          ]
        }
      ]
    },
    {
      "cell_type": "code",
      "source": [
        "n = int(input(\"Enter the number: \"))\n",
        "a = list(map(int, str(n)))\n",
        "\n",
        "b = list(map(lambda x:x**3,a))\n",
        "\n",
        "\n",
        "if(sum(b)==n):\n",
        "  print(\"armstrong number\")\n",
        "else:\n",
        "  print(\"not armstrong number\")"
      ],
      "metadata": {
        "id": "_z4R6mAbvquE"
      },
      "execution_count": null,
      "outputs": []
    },
    {
      "cell_type": "code",
      "source": [
        ""
      ],
      "metadata": {
        "id": "nDxc37D4vqq9"
      },
      "execution_count": null,
      "outputs": []
    },
    {
      "cell_type": "code",
      "source": [
        ""
      ],
      "metadata": {
        "id": "rO4jnm5rvqlZ"
      },
      "execution_count": null,
      "outputs": []
    },
    {
      "cell_type": "code",
      "source": [
        ""
      ],
      "metadata": {
        "id": "-27oEAMyvqaa"
      },
      "execution_count": null,
      "outputs": []
    }
  ]
}