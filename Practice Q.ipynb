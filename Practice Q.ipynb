{
  "nbformat": 4,
  "nbformat_minor": 0,
  "metadata": {
    "colab": {
      "name": "Untitled5.ipynb",
      "provenance": [],
      "collapsed_sections": [],
      "authorship_tag": "ABX9TyP2C7QGgXpgACPlOXedBPjg",
      "include_colab_link": true
    },
    "kernelspec": {
      "name": "python3",
      "display_name": "Python 3"
    },
    "language_info": {
      "name": "python"
    }
  },
  "cells": [
    {
      "cell_type": "markdown",
      "metadata": {
        "id": "view-in-github",
        "colab_type": "text"
      },
      "source": [
        "<a href=\"https://colab.research.google.com/github/Ramanmagar/Python-for-data-science/blob/main/Practice%20Q.ipynb\" target=\"_parent\"><img src=\"https://colab.research.google.com/assets/colab-badge.svg\" alt=\"Open In Colab\"/></a>"
      ]
    },
    {
      "cell_type": "code",
      "execution_count": 4,
      "metadata": {
        "id": "kPg4gd32S_81"
      },
      "outputs": [],
      "source": [
        "import numpy as np\n",
        "import pandas as pd"
      ]
    },
    {
      "cell_type": "code",
      "source": [
        "np_array = np.ones((4,4))\n",
        "\n"
      ],
      "metadata": {
        "id": "1bWGcB5CTDtY"
      },
      "execution_count": null,
      "outputs": []
    },
    {
      "cell_type": "code",
      "source": [
        "np_array"
      ],
      "metadata": {
        "colab": {
          "base_uri": "https://localhost:8080/"
        },
        "id": "bvrauoF1TDw5",
        "outputId": "41e09d8d-f4db-4596-b1a5-650fa59c5d94"
      },
      "execution_count": null,
      "outputs": [
        {
          "output_type": "execute_result",
          "data": {
            "text/plain": [
              "array([[1., 1., 1., 1.],\n",
              "       [1., 1., 1., 1.],\n",
              "       [1., 1., 1., 1.],\n",
              "       [1., 1., 1., 1.]])"
            ]
          },
          "metadata": {},
          "execution_count": 3
        }
      ]
    },
    {
      "cell_type": "code",
      "source": [
        "### odd evan number program \n",
        "\n",
        "num = int(input(\"Enter the number: \"))\n",
        "\n",
        "if (num % 2) == 0:\n",
        "  print(\"{0} is even\".format(num))\n",
        "else:\n",
        "  print(\"{0} is odd\".format(num))"
      ],
      "metadata": {
        "id": "o_mpwTzITDz_",
        "colab": {
          "base_uri": "https://localhost:8080/"
        },
        "outputId": "8db99893-5e96-40e4-e511-e72afebbd145"
      },
      "execution_count": null,
      "outputs": [
        {
          "output_type": "stream",
          "name": "stdout",
          "text": [
            "Enter the number: 5\n",
            "5 is odd\n"
          ]
        }
      ]
    },
    {
      "cell_type": "code",
      "source": [
        "def PrimeChecker(num):\n",
        "  if num>1:\n",
        "    for j in range(2, num//2+1):\n",
        "      if num % j ==0:\n",
        "        print(\"is't prime number\")\n",
        "        break\n",
        "    else:\n",
        "      print(\"prime number\")\n",
        "  else:\n",
        "    print(\"is't prime\")\n",
        "\n",
        "num = int(input(\"Enter the number: \"))\n",
        "PrimeChecker(num)"
      ],
      "metadata": {
        "colab": {
          "base_uri": "https://localhost:8080/"
        },
        "id": "n_GawF7KZTVd",
        "outputId": "354574bb-12b6-4e5c-deec-011171c4b102"
      },
      "execution_count": null,
      "outputs": [
        {
          "output_type": "stream",
          "name": "stdout",
          "text": [
            "Enter the number: 15\n",
            "is't prime number\n"
          ]
        }
      ]
    },
    {
      "cell_type": "code",
      "source": [
        "n=int(input(\"Enter any number: \"))\n",
        "a=list(map(int,str(n)))\n",
        "b=list(map(lambda x:x**3,a))\n",
        "if(sum(b)==n):\n",
        "   print(\"The number is an armstrong number. \")\n",
        "else:\n",
        "   print(\"The number isn't an arsmtrong number. \")"
      ],
      "metadata": {
        "colab": {
          "base_uri": "https://localhost:8080/"
        },
        "id": "bMHGAjmuvq3Q",
        "outputId": "b6741789-d3e7-45ad-88d3-49e21a566ec1"
      },
      "execution_count": null,
      "outputs": [
        {
          "output_type": "stream",
          "name": "stdout",
          "text": [
            "Enter any number: 55\n",
            "The number isn't an arsmtrong number. \n"
          ]
        }
      ]
    },
    {
      "cell_type": "code",
      "source": [
        "if  input > 0:\n",
        "  return input\n",
        "else:\n",
        "  return 0"
      ],
      "metadata": {
        "id": "zSsulfSZ6_pm"
      },
      "execution_count": null,
      "outputs": []
    },
    {
      "cell_type": "code",
      "source": [
        "## Write relu function\n",
        "\n",
        "def relu(x):\n",
        "    return max(0.0, x)"
      ],
      "metadata": {
        "id": "P88pQYDeC4KR"
      },
      "execution_count": 35,
      "outputs": []
    },
    {
      "cell_type": "code",
      "source": [
        "x = 1.0\n",
        "print('Applying Relu on (%.1f) gives %.1f' % (x, relu(x)))\n",
        "\n",
        "x = -10.0\n",
        "print('Applying Relu on (%.1f) gives %.1f' % (x, relu(x)))\n",
        "\n",
        "x = 0.0\n",
        "print('Applying Relu on (%.1f) gives %.1f' % (x, relu(x)))\n",
        "\n",
        "x = 15.0\n",
        "print('Applying Relu on (%.1f) gives %.1f' % (x, relu(x)))\n",
        "\n",
        "x = -20.0\n",
        "print('Applying Relu on (%.1f) gives %.1f' % (x, relu(x)))"
      ],
      "metadata": {
        "colab": {
          "base_uri": "https://localhost:8080/"
        },
        "id": "QzXEA3r3C9LY",
        "outputId": "90e92982-99ff-4377-99d9-20e428200623"
      },
      "execution_count": 36,
      "outputs": [
        {
          "output_type": "stream",
          "name": "stdout",
          "text": [
            "Applying Relu on (1.0) gives 1.0\n",
            "Applying Relu on (-10.0) gives 0.0\n",
            "Applying Relu on (0.0) gives 0.0\n",
            "Applying Relu on (15.0) gives 15.0\n",
            "Applying Relu on (-20.0) gives 0.0\n"
          ]
        }
      ]
    },
    {
      "cell_type": "code",
      "source": [
        "## Write relu function \n",
        "def relu(x):\n",
        "  return max(0.0, x)"
      ],
      "metadata": {
        "id": "4IXe-FxKDAka"
      },
      "execution_count": 31,
      "outputs": []
    },
    {
      "cell_type": "code",
      "source": [
        "x = 22.0\n",
        "print('Applying Relu on (%.1f) gives %.1f' % (x, relu(x)))\n",
        "\n",
        "x = -22\n",
        "print('Applying Relu on (%.1f) gives %.1f' % (x, relu(x)))\n",
        "\n",
        "x = 0\n",
        "print('Applying Relu on (%.1f) gives %.1f' % (x, relu(x)))\n",
        "\n",
        "x = -2\n",
        "print('Applying Relu on (%.1f) gives %.1f' % (x, relu(x)))\n"
      ],
      "metadata": {
        "colab": {
          "base_uri": "https://localhost:8080/"
        },
        "id": "XdlUAmgzDjec",
        "outputId": "fbc1aa55-f256-42fe-f9bd-7ab97877d9ad"
      },
      "execution_count": 37,
      "outputs": [
        {
          "output_type": "stream",
          "name": "stdout",
          "text": [
            "Applying Relu on (22.0) gives 22.0\n",
            "Applying Relu on (-22.0) gives 0.0\n",
            "Applying Relu on (0.0) gives 0.0\n",
            "Applying Relu on (-2.0) gives 0.0\n"
          ]
        }
      ]
    },
    {
      "cell_type": "code",
      "source": [
        ""
      ],
      "metadata": {
        "id": "M97aQwnqD6bv"
      },
      "execution_count": null,
      "outputs": []
    }
  ]
}