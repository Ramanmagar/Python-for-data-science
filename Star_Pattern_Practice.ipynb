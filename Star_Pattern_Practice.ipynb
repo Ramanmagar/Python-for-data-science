{
  "nbformat": 4,
  "nbformat_minor": 0,
  "metadata": {
    "colab": {
      "name": "Star Pattern Practice.ipynb",
      "provenance": [],
      "collapsed_sections": [],
      "authorship_tag": "ABX9TyMwrD+VYt21tcZ64G2eT9io",
      "include_colab_link": true
    },
    "kernelspec": {
      "name": "python3",
      "display_name": "Python 3"
    },
    "language_info": {
      "name": "python"
    }
  },
  "cells": [
    {
      "cell_type": "markdown",
      "metadata": {
        "id": "view-in-github",
        "colab_type": "text"
      },
      "source": [
        "<a href=\"https://colab.research.google.com/github/Ramanmagar/Python-for-data-science/blob/main/Star_Pattern_Practice.ipynb\" target=\"_parent\"><img src=\"https://colab.research.google.com/assets/colab-badge.svg\" alt=\"Open In Colab\"/></a>"
      ]
    },
    {
      "cell_type": "code",
      "source": [
        "n= 5\n",
        "for i in range(n):\n",
        "  for j in range(i+1):\n",
        "    print('*')"
      ],
      "metadata": {
        "colab": {
          "base_uri": "https://localhost:8080/"
        },
        "id": "EYxrahNExMxf",
        "outputId": "c63733e2-421c-4ced-9135-93a608648da4"
      },
      "execution_count": null,
      "outputs": [
        {
          "output_type": "stream",
          "name": "stdout",
          "text": [
            "*\n",
            "*\n",
            "*\n",
            "*\n",
            "*\n",
            "*\n",
            "*\n",
            "*\n",
            "*\n",
            "*\n",
            "*\n",
            "*\n",
            "*\n",
            "*\n",
            "*\n"
          ]
        }
      ]
    },
    {
      "cell_type": "code",
      "source": [
        "n= 5\n",
        "for i in range(n):\n",
        "  for j in range(i+1):\n",
        "    print(j ,end=' ')"
      ],
      "metadata": {
        "id": "4b7HSgMFf3QU",
        "colab": {
          "base_uri": "https://localhost:8080/"
        },
        "outputId": "7238b954-f185-4760-dfc3-d46cae81bf12"
      },
      "execution_count": null,
      "outputs": [
        {
          "output_type": "stream",
          "name": "stdout",
          "text": [
            "0 0 1 0 1 2 0 1 2 3 0 1 2 3 4 "
          ]
        }
      ]
    },
    {
      "cell_type": "code",
      "source": [
        "n= 5\n",
        "for i in range(n):\n",
        "  #for j in range(i+1):\n",
        "    print(i ,end=' ')"
      ],
      "metadata": {
        "colab": {
          "base_uri": "https://localhost:8080/"
        },
        "id": "L6BpNM_vwoNx",
        "outputId": "4f3fd7dd-4824-4d2f-acc3-d76976135364"
      },
      "execution_count": null,
      "outputs": [
        {
          "output_type": "stream",
          "name": "stdout",
          "text": [
            "0 1 2 3 4 "
          ]
        }
      ]
    },
    {
      "cell_type": "code",
      "source": [
        "n= 5\n",
        "for i in range(n):\n",
        "  #for j in range(i+1):\n",
        "    print(i)"
      ],
      "metadata": {
        "colab": {
          "base_uri": "https://localhost:8080/"
        },
        "id": "AmpVNG60woTF",
        "outputId": "141eead2-7ca8-4573-9023-9e9cae61053d"
      },
      "execution_count": null,
      "outputs": [
        {
          "output_type": "stream",
          "name": "stdout",
          "text": [
            "0\n",
            "1\n",
            "2\n",
            "3\n",
            "4\n"
          ]
        }
      ]
    },
    {
      "cell_type": "code",
      "source": [
        "n = 5\n",
        "for i in range(n):\n",
        "  for j in range(i+1):\n",
        "    print(\"*\", end=' ')\n",
        "  print()"
      ],
      "metadata": {
        "colab": {
          "base_uri": "https://localhost:8080/"
        },
        "id": "j43B_j47woXs",
        "outputId": "9091ef41-9b5e-4f6b-aef9-acb13f9366d8"
      },
      "execution_count": null,
      "outputs": [
        {
          "output_type": "stream",
          "name": "stdout",
          "text": [
            "* \n",
            "* * \n",
            "* * * \n",
            "* * * * \n",
            "* * * * * \n"
          ]
        }
      ]
    },
    {
      "cell_type": "code",
      "source": [
        "n= 5 \n",
        "for i in range(n):\n",
        "  for j in range(i+1):\n",
        "    print(\"*\", end =' ')\n",
        "  print()\n"
      ],
      "metadata": {
        "colab": {
          "base_uri": "https://localhost:8080/"
        },
        "id": "C-nW6VMCwobH",
        "outputId": "b7e9fdcb-76b7-497c-d4fb-0116220dbb90"
      },
      "execution_count": null,
      "outputs": [
        {
          "output_type": "stream",
          "name": "stdout",
          "text": [
            "* \n",
            "* * \n",
            "* * * \n",
            "* * * * \n",
            "* * * * * \n"
          ]
        }
      ]
    },
    {
      "cell_type": "code",
      "source": [
        "n= 5\n",
        "for i in range(n):\n",
        "  for j in range(i, n):\n",
        "    print(\"*\", end =' ')\n",
        "  print()"
      ],
      "metadata": {
        "colab": {
          "base_uri": "https://localhost:8080/"
        },
        "id": "frvTyxbewods",
        "outputId": "e8ef33cc-629b-4d41-a7d0-e4e09f490815"
      },
      "execution_count": null,
      "outputs": [
        {
          "output_type": "stream",
          "name": "stdout",
          "text": [
            "* * * * * \n",
            "* * * * \n",
            "* * * \n",
            "* * \n",
            "* \n"
          ]
        }
      ]
    },
    {
      "cell_type": "code",
      "source": [
        "i = 5\n",
        "for i in range(n):\n",
        "  for j in range(i, n):\n",
        "    print('*', end=' ')\n",
        "  for j in range(i+1):\n",
        "    print(\"*\", end=' ')\n",
        "  print()"
      ],
      "metadata": {
        "colab": {
          "base_uri": "https://localhost:8080/"
        },
        "id": "Rdo6d0QwwohP",
        "outputId": "d4f832dd-dd8d-4d4a-8aef-856591905646"
      },
      "execution_count": null,
      "outputs": [
        {
          "output_type": "stream",
          "name": "stdout",
          "text": [
            "* * * * * * \n",
            "* * * * * * \n",
            "* * * * * * \n",
            "* * * * * * \n",
            "* * * * * * \n"
          ]
        }
      ]
    },
    {
      "cell_type": "code",
      "source": [
        "i = 5\n",
        "for i in range(n):\n",
        "  for j in range(i+1):\n",
        "    print(' ', end=' ')\n",
        "  for j in range(i,n):\n",
        "    print(\"*\", end=' ')\n",
        "  print()"
      ],
      "metadata": {
        "colab": {
          "base_uri": "https://localhost:8080/"
        },
        "id": "J8bYPoTowope",
        "outputId": "c647fc7f-1825-411b-9c56-74c32b051f99"
      },
      "execution_count": null,
      "outputs": [
        {
          "output_type": "stream",
          "name": "stdout",
          "text": [
            "  * * * * * \n",
            "    * * * * \n",
            "      * * * \n",
            "        * * \n",
            "          * \n"
          ]
        }
      ]
    },
    {
      "cell_type": "code",
      "source": [
        "i = 5\n",
        "for i in range(n):\n",
        "  for j in range(i+1):\n",
        "    print('*', end=' ')\n",
        "  for j in range(i,n):\n",
        "    print(\" \", end=' ')\n",
        "  print()"
      ],
      "metadata": {
        "colab": {
          "base_uri": "https://localhost:8080/"
        },
        "id": "Y8-WPgqo_G5U",
        "outputId": "bc44af8c-e0ff-4c9b-dbe4-22950fa9a16c"
      },
      "execution_count": null,
      "outputs": [
        {
          "output_type": "stream",
          "name": "stdout",
          "text": [
            "*           \n",
            "* *         \n",
            "* * *       \n",
            "* * * *     \n",
            "* * * * *   \n"
          ]
        }
      ]
    },
    {
      "cell_type": "code",
      "source": [
        "i = 5\n",
        "for i in range(n):\n",
        "  for j in range(i, n):\n",
        "    print(' ', end=' ')\n",
        "  for j in range(i+1):\n",
        "    print(\"*\", end=' ')\n",
        "  print()"
      ],
      "metadata": {
        "colab": {
          "base_uri": "https://localhost:8080/"
        },
        "id": "jBEAosbO_YXk",
        "outputId": "9058679c-1081-4122-bdb4-98b2464884ca"
      },
      "execution_count": null,
      "outputs": [
        {
          "output_type": "stream",
          "name": "stdout",
          "text": [
            "          * \n",
            "        * * \n",
            "      * * * \n",
            "    * * * * \n",
            "  * * * * * \n"
          ]
        }
      ]
    },
    {
      "cell_type": "code",
      "source": [
        "i = 5\n",
        "for i in range(n):\n",
        "  for j in range(i, n):\n",
        "    print(' ', end=' ')\n",
        "  for j in range(i+1):\n",
        "    print(\"*\", end=' ')\n",
        "  for j in range(i,n):\n",
        "    print(\"*\", end=' ')\n",
        "  print()"
      ],
      "metadata": {
        "colab": {
          "base_uri": "https://localhost:8080/"
        },
        "id": "SMfheqDpAXoh",
        "outputId": "daecaf0c-9500-451d-ae5e-607762c4c6d1"
      },
      "execution_count": null,
      "outputs": [
        {
          "output_type": "stream",
          "name": "stdout",
          "text": [
            "          * * * * * * \n",
            "        * * * * * * \n",
            "      * * * * * * \n",
            "    * * * * * * \n",
            "  * * * * * * \n"
          ]
        }
      ]
    },
    {
      "cell_type": "code",
      "source": [
        "i = 5\n",
        "for i in range(n):\n",
        "  for j in range(i, n):\n",
        "    print(' ', end=' ')\n",
        "  for j in range(i+1):\n",
        "    print(\"*\", end=' ')\n",
        "  for j in range(i+1):\n",
        "    print(\"*\", end=' ')\n",
        "  print()"
      ],
      "metadata": {
        "colab": {
          "base_uri": "https://localhost:8080/"
        },
        "id": "jJyPRqRuBGeu",
        "outputId": "2ce80ada-41b9-4a20-8ffd-d719725cbe7c"
      },
      "execution_count": null,
      "outputs": [
        {
          "output_type": "stream",
          "name": "stdout",
          "text": [
            "          * * \n",
            "        * * * * \n",
            "      * * * * * * \n",
            "    * * * * * * * * \n",
            "  * * * * * * * * * * \n"
          ]
        }
      ]
    },
    {
      "cell_type": "code",
      "source": [
        "i = 5\n",
        "for i in range(n):\n",
        "  for j in range(i, n):\n",
        "    print(' ', end=' ')\n",
        "  for j in range(i):\n",
        "    print(\"*\", end=' ')\n",
        "  for j in range(i+1):\n",
        "    print(\"*\", end=' ')\n",
        "  print()"
      ],
      "metadata": {
        "colab": {
          "base_uri": "https://localhost:8080/"
        },
        "id": "Gyv_mqQVBXDX",
        "outputId": "453f7f5f-bf2a-4cbb-b063-76f91f65559c"
      },
      "execution_count": null,
      "outputs": [
        {
          "output_type": "stream",
          "name": "stdout",
          "text": [
            "          * \n",
            "        * * * \n",
            "      * * * * * \n",
            "    * * * * * * * \n",
            "  * * * * * * * * * \n"
          ]
        }
      ]
    },
    {
      "cell_type": "code",
      "source": [
        "n= 5\n",
        "for i in range(n):\n",
        "  for j in range(i+1):\n",
        "    print('1', end=' ')\n",
        "  print()\n",
        "  "
      ],
      "metadata": {
        "colab": {
          "base_uri": "https://localhost:8080/"
        },
        "id": "feOn5IKDBdwr",
        "outputId": "5a2fdd41-89fb-4c8f-cc31-16b55346b3b9"
      },
      "execution_count": null,
      "outputs": [
        {
          "output_type": "stream",
          "name": "stdout",
          "text": [
            "1 \n",
            "1 1 \n",
            "1 1 1 \n",
            "1 1 1 1 \n",
            "1 1 1 1 1 \n"
          ]
        }
      ]
    },
    {
      "cell_type": "code",
      "source": [
        "n= 5\n",
        "for i in range(n):\n",
        "  for j in range(i+1):\n",
        "    print(' ', end=' ')\n",
        "  for j in range(i,n):\n",
        "    print('1', end=' ')\n",
        "  print()"
      ],
      "metadata": {
        "id": "GAQSH7F5DEa5",
        "colab": {
          "base_uri": "https://localhost:8080/"
        },
        "outputId": "bd3dbc35-38de-4b63-ef91-c17a65a50f05"
      },
      "execution_count": null,
      "outputs": [
        {
          "output_type": "stream",
          "name": "stdout",
          "text": [
            "  1 1 1 1 1 \n",
            "    1 1 1 1 \n",
            "      1 1 1 \n",
            "        1 1 \n",
            "          1 \n"
          ]
        }
      ]
    },
    {
      "cell_type": "code",
      "source": [
        "n= 5\n",
        "for i in range(n):\n",
        "  for j in range(i,n):\n",
        "    print(' ', end=' ')\n",
        "  for j in range(i):\n",
        "    print('1', end=' ')\n",
        "  for j in range(i+1):\n",
        "    print('1', end=' ')\n",
        "  print()"
      ],
      "metadata": {
        "colab": {
          "base_uri": "https://localhost:8080/"
        },
        "id": "QuNPPdGKbvTE",
        "outputId": "026881c7-514f-41c4-8754-d717a7f6e37e"
      },
      "execution_count": null,
      "outputs": [
        {
          "output_type": "stream",
          "name": "stdout",
          "text": [
            "          1 \n",
            "        1 1 1 \n",
            "      1 1 1 1 1 \n",
            "    1 1 1 1 1 1 1 \n",
            "  1 1 1 1 1 1 1 1 1 \n"
          ]
        }
      ]
    },
    {
      "cell_type": "code",
      "source": [
        "i = 5\n",
        "for i in range(n):\n",
        "  for j in range(i,n):\n",
        "    print(' ', end=' ')\n",
        "  for j in range(i,n):\n",
        "    print(\"1\", end=' ')\n",
        "  for j in range(i+1):\n",
        "    print(\"1\", end=' ')\n",
        "  print()"
      ],
      "metadata": {
        "colab": {
          "base_uri": "https://localhost:8080/"
        },
        "id": "WKJN9cuzbvPp",
        "outputId": "d249fd94-6acd-43ae-e18c-d110157b57f9"
      },
      "execution_count": null,
      "outputs": [
        {
          "output_type": "stream",
          "name": "stdout",
          "text": [
            "          1 1 1 1 1 1 \n",
            "        1 1 1 1 1 1 \n",
            "      1 1 1 1 1 1 \n",
            "    1 1 1 1 1 1 \n",
            "  1 1 1 1 1 1 \n"
          ]
        }
      ]
    },
    {
      "cell_type": "code",
      "source": [
        "n=5\n",
        "for i in range(n):\n",
        "  for j in range(i+1):\n",
        "    print(i+1, end = ' ')\n",
        "  print()"
      ],
      "metadata": {
        "colab": {
          "base_uri": "https://localhost:8080/"
        },
        "id": "GBq4kJ-ubvMd",
        "outputId": "3a547e84-88c0-49e0-bdeb-ee4f9740cc74"
      },
      "execution_count": null,
      "outputs": [
        {
          "output_type": "stream",
          "name": "stdout",
          "text": [
            "1 \n",
            "2 2 \n",
            "3 3 3 \n",
            "4 4 4 4 \n",
            "5 5 5 5 5 \n"
          ]
        }
      ]
    },
    {
      "cell_type": "code",
      "source": [
        "n=5\n",
        "p= 1\n",
        "for i in range(n):\n",
        "  for j in range(i+1):\n",
        "    print(p, end = ' ')\n",
        "  p+=1\n",
        "  print()"
      ],
      "metadata": {
        "colab": {
          "base_uri": "https://localhost:8080/"
        },
        "id": "kVYP9abEbvHS",
        "outputId": "90bd1d87-7c17-44ff-9753-75fb463be928"
      },
      "execution_count": null,
      "outputs": [
        {
          "output_type": "stream",
          "name": "stdout",
          "text": [
            "1 \n",
            "2 2 \n",
            "3 3 3 \n",
            "4 4 4 4 \n",
            "5 5 5 5 5 \n"
          ]
        }
      ]
    },
    {
      "cell_type": "code",
      "source": [
        "n= 5\n",
        "for i in range(n):\n",
        "  for j in range(i+1):\n",
        "    print(' ', end=' ')\n",
        "  for j in range(i,n):\n",
        "    print('1', end=' ')\n",
        "  print()"
      ],
      "metadata": {
        "colab": {
          "base_uri": "https://localhost:8080/"
        },
        "id": "_zZ_3xQ6bvFQ",
        "outputId": "9b8d0a88-beb5-4bf1-92fc-ea6fe08e96e0"
      },
      "execution_count": null,
      "outputs": [
        {
          "output_type": "stream",
          "name": "stdout",
          "text": [
            "  1 1 1 1 1 \n",
            "    1 1 1 1 \n",
            "      1 1 1 \n",
            "        1 1 \n",
            "          1 \n"
          ]
        }
      ]
    },
    {
      "cell_type": "code",
      "source": [
        "n= 5\n",
        "p=5\n",
        "for i in range(n):\n",
        "  for j in range(i+1):\n",
        "    print(p, end=' ')\n",
        "  p-=1\n",
        "  print()\n"
      ],
      "metadata": {
        "colab": {
          "base_uri": "https://localhost:8080/"
        },
        "id": "pngFu50-bvDh",
        "outputId": "cd6a4e86-d2ac-4305-866b-a140e5b28ceb"
      },
      "execution_count": null,
      "outputs": [
        {
          "output_type": "stream",
          "name": "stdout",
          "text": [
            "5 \n",
            "4 4 \n",
            "3 3 3 \n",
            "2 2 2 2 \n",
            "1 1 1 1 1 \n"
          ]
        }
      ]
    },
    {
      "cell_type": "code",
      "source": [
        "n= 5\n",
        "p=0\n",
        "for i in range(n):\n",
        "  for j in range(i+1):\n",
        "    print(p, end=' ')\n",
        "  p+=2\n",
        "  print()"
      ],
      "metadata": {
        "colab": {
          "base_uri": "https://localhost:8080/"
        },
        "id": "lLhnep5AbvBu",
        "outputId": "14300c22-f3a5-4e8d-f6e1-4084686bce69"
      },
      "execution_count": null,
      "outputs": [
        {
          "output_type": "stream",
          "name": "stdout",
          "text": [
            "0 \n",
            "2 2 \n",
            "4 4 4 \n",
            "6 6 6 6 \n",
            "8 8 8 8 8 \n"
          ]
        }
      ]
    },
    {
      "cell_type": "code",
      "source": [
        "n= 5\n",
        "p=0\n",
        "for i in range(n):\n",
        "  for j in range(i+1):\n",
        "    if(i%2==0):\n",
        "      print('1', end=' ')\n",
        "    else:\n",
        "      print(\"2\", end= ' ')\n",
        "  print()"
      ],
      "metadata": {
        "colab": {
          "base_uri": "https://localhost:8080/"
        },
        "id": "bsq28xjUbu2x",
        "outputId": "f59b743b-ec3d-40cb-8c99-cbb261fb6b84"
      },
      "execution_count": null,
      "outputs": [
        {
          "output_type": "stream",
          "name": "stdout",
          "text": [
            "1 \n",
            "2 2 \n",
            "1 1 1 \n",
            "2 2 2 2 \n",
            "1 1 1 1 1 \n"
          ]
        }
      ]
    },
    {
      "cell_type": "code",
      "source": [
        "n= 5\n",
        "p =1\n",
        "for i in range(n-1):\n",
        "  for j in range(i,n):\n",
        "    print(' ', end=' ')\n",
        "  for j in range(i):\n",
        "    print(p, end=' ')\n",
        "  for j in range(i+1):\n",
        "    print(p, end=' ')\n",
        "  p+=1\n",
        "  print()\n",
        "for i in range(n):\n",
        "  for j in range(i+1):\n",
        "    print(' ', end=' ')\n",
        "  for j in range(i, n-1):\n",
        "    print(p, end=' ')\n",
        "  for(intj=i;j<=n;j++)\n",
        "    print(p, end=' ')\n",
        "  p-=1\n",
        "  print()"
      ],
      "metadata": {
        "colab": {
          "base_uri": "https://localhost:8080/",
          "height": 131
        },
        "id": "69ZMIFl4buyS",
        "outputId": "12514ffb-6073-4147-a3d5-28c72fcf3921"
      },
      "execution_count": null,
      "outputs": [
        {
          "output_type": "error",
          "ename": "SyntaxError",
          "evalue": "ignored",
          "traceback": [
            "\u001b[0;36m  File \u001b[0;32m\"<ipython-input-95-6cafed79407b>\"\u001b[0;36m, line \u001b[0;32m17\u001b[0m\n\u001b[0;31m    for(int(j=i);j<=n;j++)\u001b[0m\n\u001b[0m                ^\u001b[0m\n\u001b[0;31mSyntaxError\u001b[0m\u001b[0;31m:\u001b[0m invalid syntax\n"
          ]
        }
      ]
    },
    {
      "cell_type": "code",
      "source": [
        "n= 5\n",
        "for i in range(n):\n",
        "  p =1\n",
        "  for j in range(i+1):\n",
        "    print(p, end=' ')\n",
        "    p+=1\n",
        "  print()"
      ],
      "metadata": {
        "colab": {
          "base_uri": "https://localhost:8080/"
        },
        "id": "LPW6EeJAbuuB",
        "outputId": "e0aa9a0e-fc45-4fc1-806c-329fc1435fc6"
      },
      "execution_count": null,
      "outputs": [
        {
          "output_type": "stream",
          "name": "stdout",
          "text": [
            "1 \n",
            "1 2 \n",
            "1 2 3 \n",
            "1 2 3 4 \n",
            "1 2 3 4 5 \n"
          ]
        }
      ]
    },
    {
      "cell_type": "code",
      "source": [
        "n= 5\n",
        "for i in range(n):\n",
        "  p =1\n",
        "  for j in range(i+1):\n",
        "    print(' ', end=' ')\n",
        "  for j in range(i,n):\n",
        "    print(p, end=' ')\n",
        "    p+=1\n",
        "  print()"
      ],
      "metadata": {
        "colab": {
          "base_uri": "https://localhost:8080/"
        },
        "id": "cSP2WLTJbup6",
        "outputId": "13863a38-4407-424c-d956-41be345a8b46"
      },
      "execution_count": null,
      "outputs": [
        {
          "output_type": "stream",
          "name": "stdout",
          "text": [
            "  1 2 3 4 5 \n",
            "    1 2 3 4 \n",
            "      1 2 3 \n",
            "        1 2 \n",
            "          1 \n"
          ]
        }
      ]
    },
    {
      "cell_type": "code",
      "source": [
        "## hill tringle\n",
        "n= 5\n",
        "for i in range(n):\n",
        "  p =1\n",
        "  for j in range(i,n):\n",
        "    print(' ', end=' ')\n",
        "  for j in range(i):\n",
        "    print(p, end=' ')\n",
        "    p+=1\n",
        "  for j in range(i+1):\n",
        "    print(p, end=' ')\n",
        "    p+=1\n",
        "  print()"
      ],
      "metadata": {
        "colab": {
          "base_uri": "https://localhost:8080/"
        },
        "id": "Odk-kA58buk1",
        "outputId": "c7fec4b1-fd86-4b87-96ad-0349ee8e72ee"
      },
      "execution_count": null,
      "outputs": [
        {
          "output_type": "stream",
          "name": "stdout",
          "text": [
            "          1 \n",
            "        1 2 3 \n",
            "      1 2 3 4 5 \n",
            "    1 2 3 4 5 6 7 \n",
            "  1 2 3 4 5 6 7 8 9 \n"
          ]
        }
      ]
    },
    {
      "cell_type": "code",
      "source": [
        "n= 5\n",
        "p=5\n",
        "for i in range(n):\n",
        "  p=5\n",
        "  for j in range(i+1):\n",
        "    print(p, end=' ')\n",
        "    p-=1\n",
        "  print()"
      ],
      "metadata": {
        "colab": {
          "base_uri": "https://localhost:8080/"
        },
        "id": "wqmRVpenbui_",
        "outputId": "0dd56b49-d14e-422c-fd9c-1e787648e3c0"
      },
      "execution_count": null,
      "outputs": [
        {
          "output_type": "stream",
          "name": "stdout",
          "text": [
            "5 \n",
            "5 4 \n",
            "5 4 3 \n",
            "5 4 3 2 \n",
            "5 4 3 2 1 \n"
          ]
        }
      ]
    },
    {
      "cell_type": "code",
      "source": [
        "n= 5\n",
        "k=5\n",
        "for i in range(n):\n",
        "  p =k\n",
        "  for j in range(i+1):\n",
        "    print(' ', end=' ')\n",
        "  for j in range(i,n):\n",
        "    print(p, end=' ')\n",
        "    p-=1\n",
        "  k-=1\n",
        "  print()"
      ],
      "metadata": {
        "colab": {
          "base_uri": "https://localhost:8080/"
        },
        "id": "SCwBklTdbuhB",
        "outputId": "2797ab17-c6c1-4655-84af-912217c4431c"
      },
      "execution_count": null,
      "outputs": [
        {
          "output_type": "stream",
          "name": "stdout",
          "text": [
            "  5 4 3 2 1 \n",
            "    4 3 2 1 \n",
            "      3 2 1 \n",
            "        2 1 \n",
            "          1 \n"
          ]
        }
      ]
    },
    {
      "cell_type": "code",
      "source": [
        "## hill tringle\n",
        "n= 5\n",
        "for i in range(n):\n",
        "  p =1\n",
        "  for j in range(i,n):\n",
        "    print(' ', end=' ')\n",
        "  for j in range(i):\n",
        "    print(p, end=' ')\n",
        "    p+=1\n",
        "  for j in range(i+1):\n",
        "    print(p, end=' ')\n",
        "    p+=1\n",
        "  print()"
      ],
      "metadata": {
        "colab": {
          "base_uri": "https://localhost:8080/"
        },
        "id": "cAl-RrbwbufL",
        "outputId": "639b410b-4a84-4a6f-832b-bc36af8df37d"
      },
      "execution_count": null,
      "outputs": [
        {
          "output_type": "stream",
          "name": "stdout",
          "text": [
            "          1 \n",
            "        1 2 3 \n",
            "      1 2 3 4 5 \n",
            "    1 2 3 4 5 6 7 \n",
            "  1 2 3 4 5 6 7 8 9 \n"
          ]
        }
      ]
    },
    {
      "cell_type": "code",
      "source": [
        "#Floyed pattern\n",
        "n= 5\n",
        "p=1\n",
        "for i in range(n):\n",
        "  for j in range(i+1):\n",
        "    print(p, end=' ')\n",
        "    p+=1\n",
        "  print()"
      ],
      "metadata": {
        "colab": {
          "base_uri": "https://localhost:8080/"
        },
        "id": "zllEZlxTbuV9",
        "outputId": "32058f06-00ae-4142-80ec-d55168ee6ead"
      },
      "execution_count": null,
      "outputs": [
        {
          "output_type": "stream",
          "name": "stdout",
          "text": [
            "1 \n",
            "2 3 \n",
            "4 5 6 \n",
            "7 8 9 10 \n",
            "11 12 13 14 15 \n"
          ]
        }
      ]
    },
    {
      "cell_type": "code",
      "source": [
        ""
      ],
      "metadata": {
        "id": "XM-6AMNBbuTM"
      },
      "execution_count": null,
      "outputs": []
    },
    {
      "cell_type": "code",
      "source": [
        ""
      ],
      "metadata": {
        "id": "rrTFJfgubuPu"
      },
      "execution_count": null,
      "outputs": []
    },
    {
      "cell_type": "code",
      "source": [
        ""
      ],
      "metadata": {
        "id": "PKwYzYTpbuM9"
      },
      "execution_count": null,
      "outputs": []
    },
    {
      "cell_type": "code",
      "source": [
        ""
      ],
      "metadata": {
        "id": "u9NE7CrTbuI0"
      },
      "execution_count": null,
      "outputs": []
    },
    {
      "cell_type": "code",
      "source": [
        ""
      ],
      "metadata": {
        "id": "m85OAwj_buGw"
      },
      "execution_count": null,
      "outputs": []
    },
    {
      "cell_type": "code",
      "source": [
        ""
      ],
      "metadata": {
        "id": "JXwigwGebuEZ"
      },
      "execution_count": null,
      "outputs": []
    },
    {
      "cell_type": "code",
      "source": [
        ""
      ],
      "metadata": {
        "id": "DpIZJ91CbuB7"
      },
      "execution_count": null,
      "outputs": []
    },
    {
      "cell_type": "code",
      "source": [
        ""
      ],
      "metadata": {
        "id": "QnkzzTFIbt_C"
      },
      "execution_count": null,
      "outputs": []
    },
    {
      "cell_type": "code",
      "source": [
        ""
      ],
      "metadata": {
        "id": "AFhoeOHYbt8L"
      },
      "execution_count": null,
      "outputs": []
    },
    {
      "cell_type": "code",
      "source": [
        ""
      ],
      "metadata": {
        "id": "SW9cD3pDDcK0"
      },
      "execution_count": null,
      "outputs": []
    }
  ]
}