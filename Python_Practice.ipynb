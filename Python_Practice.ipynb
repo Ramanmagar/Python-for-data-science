{
  "nbformat": 4,
  "nbformat_minor": 0,
  "metadata": {
    "colab": {
      "name": "Python Practice.ipynb",
      "provenance": [],
      "collapsed_sections": [],
      "authorship_tag": "ABX9TyMQydcrSLaupcFQvdMoG5Ax",
      "include_colab_link": true
    },
    "kernelspec": {
      "name": "python3",
      "display_name": "Python 3"
    },
    "language_info": {
      "name": "python"
    }
  },
  "cells": [
    {
      "cell_type": "markdown",
      "metadata": {
        "id": "view-in-github",
        "colab_type": "text"
      },
      "source": [
        "<a href=\"https://colab.research.google.com/github/Ramanmagar/Python-for-data-science/blob/main/Python_Practice.ipynb\" target=\"_parent\"><img src=\"https://colab.research.google.com/assets/colab-badge.svg\" alt=\"Open In Colab\"/></a>"
      ]
    },
    {
      "cell_type": "code",
      "source": [
        "## Swapcase Function\n",
        "string_1 = \"       is id 2 an no of string\"\n",
        "print(string_1.swapcase())\n",
        "\n",
        "print(string_1.strip())"
      ],
      "metadata": {
        "colab": {
          "base_uri": "https://localhost:8080/"
        },
        "id": "bVc5sMgqPxdJ",
        "outputId": "7e1f9c5a-2bb4-457b-981a-01004390c3bf"
      },
      "execution_count": 1,
      "outputs": [
        {
          "output_type": "stream",
          "name": "stdout",
          "text": [
            "       IS ID 2 AN NO OF STRING\n",
            "is id 2 an no of string\n"
          ]
        }
      ]
    },
    {
      "cell_type": "code",
      "source": [
        "## Enumerate Fun\n",
        "\n",
        "subject_2 = ('Python', 'Interview', 'Questions')\n",
        "for i, subject_2 in enumerate(subject_2):\n",
        "  print(i, subject_2)"
      ],
      "metadata": {
        "colab": {
          "base_uri": "https://localhost:8080/"
        },
        "id": "bsuD1fqKR054",
        "outputId": "2d9302c3-3132-4196-8d7f-ae1ce7e6d09f"
      },
      "execution_count": null,
      "outputs": [
        {
          "output_type": "stream",
          "name": "stdout",
          "text": [
            "0 Python\n",
            "1 Interview\n",
            "2 Questions\n"
          ]
        }
      ]
    },
    {
      "cell_type": "code",
      "source": [
        "## Identifier\n",
        "\n",
        "# Run this cell and see the answer in boolean way(True, False) and don't worry if you don't\n",
        "# Just keep in mind, there's a way to cross check the identifier.\n",
        "print(\"abc\".isidentifier())\n",
        "print(\"99a\".isidentifier())\n",
        "print(\"_\".isidentifier())\n",
        "print(\"for\".isidentifier()) # True - wrong output"
      ],
      "metadata": {
        "colab": {
          "base_uri": "https://localhost:8080/"
        },
        "id": "ElkFukEvh-ia",
        "outputId": "fa2d166a-8699-4aca-fd2c-1654a289fa6c"
      },
      "execution_count": null,
      "outputs": [
        {
          "output_type": "stream",
          "name": "stdout",
          "text": [
            "True\n",
            "False\n",
            "True\n",
            "True\n"
          ]
        }
      ]
    },
    {
      "cell_type": "code",
      "source": [
        "#convert List into string\n",
        "\n",
        "weekdays = ['sun','mon','tue','wed','thu','fri','sat']\n",
        "\n",
        "list_to_String = ' '.join(weekdays)\n",
        "print(list_to_String)"
      ],
      "metadata": {
        "colab": {
          "base_uri": "https://localhost:8080/"
        },
        "id": "LcgbC9CKIwo4",
        "outputId": "861a322b-90f4-4822-e79e-56e704495e69"
      },
      "execution_count": null,
      "outputs": [
        {
          "output_type": "stream",
          "name": "stdout",
          "text": [
            "sun mon tue wed thu fri sat\n"
          ]
        }
      ]
    },
    {
      "cell_type": "code",
      "source": [
        "#convert List into string\n",
        "names = ['ram','shyam','nitin','ajay','vijay','raj']\n",
        "list_to_string = ' '.join(names)\n",
        "print(weaks)\n",
        "print(list_to_string)"
      ],
      "metadata": {
        "colab": {
          "base_uri": "https://localhost:8080/"
        },
        "id": "g6EMMvkDJZ4h",
        "outputId": "a28c3d77-a2e2-4cd7-fc40-4848d1a98833"
      },
      "execution_count": null,
      "outputs": [
        {
          "output_type": "stream",
          "name": "stdout",
          "text": [
            "['ram', 'shyam', 'nitin', 'ajay', 'vijay', 'raj']\n",
            "ram shyam nitin ajay vijay raj\n"
          ]
        }
      ]
    },
    {
      "cell_type": "code",
      "source": [
        "#convert list into tuple\n",
        "\n",
        "weekdays = ['sun','mon','tue','wed','thu','fri','sat']\n",
        "list_to_Tuple = tuple(weekdays)\n",
        "print(list_to_Tuple)"
      ],
      "metadata": {
        "colab": {
          "base_uri": "https://localhost:8080/"
        },
        "id": "MBwWIybAJICg",
        "outputId": "be6db842-b7d5-46a9-f9b8-1ea1b2fee5d2"
      },
      "execution_count": null,
      "outputs": [
        {
          "output_type": "stream",
          "name": "stdout",
          "text": [
            "('sun', 'mon', 'tue', 'wed', 'thu', 'fri', 'sat')\n"
          ]
        }
      ]
    },
    {
      "cell_type": "code",
      "source": [
        "#convert list into set\n",
        "\n",
        "weekdays = ['sun','mon','tue','wed','thu','fri','sat']\n",
        "list_to_Tuple = set(weekdays)\n",
        "print(list_to_Tuple)"
      ],
      "metadata": {
        "colab": {
          "base_uri": "https://localhost:8080/"
        },
        "id": "loC04UcbLbt-",
        "outputId": "3f36cccb-ec03-440a-8ea7-8a0be2203bdb"
      },
      "execution_count": null,
      "outputs": [
        {
          "output_type": "stream",
          "name": "stdout",
          "text": [
            "{'sun', 'sat', 'thu', 'wed', 'tue', 'mon', 'fri'}\n"
          ]
        }
      ]
    },
    {
      "cell_type": "code",
      "source": [
        "# count the repeated words\n",
        "weekdays = ['sun','mon','tue','wed','thu','fri','sat','mon','tue','wed','thu','fri','sat','tue']\n",
        "\n",
        "print(weekdays.count('tue'))"
      ],
      "metadata": {
        "colab": {
          "base_uri": "https://localhost:8080/"
        },
        "id": "pXzxXvt3L3Ud",
        "outputId": "4e65edf3-3537-4172-82b1-e8c93aa935de"
      },
      "execution_count": null,
      "outputs": [
        {
          "output_type": "stream",
          "name": "stdout",
          "text": [
            "3\n"
          ]
        }
      ]
    },
    {
      "cell_type": "code",
      "source": [
        "''' What is NumPy array?\n",
        "\n",
        "NumPy arrays are more flexible then lists in Python. By using NumPy arrays reading and writing items is faster and more efficient'''"
      ],
      "metadata": {
        "id": "Fn7jCN6RMUv4"
      },
      "execution_count": null,
      "outputs": []
    },
    {
      "cell_type": "code",
      "source": [
        "# What is local and global variable??\n",
        "\n",
        "# global variable and it is not function dependant\n",
        "x = \"awesome\"\n",
        "def myfunc():\n",
        "# Local variable because it is defined inside function and it has scope\n",
        " x = \"fantastic\"\n",
        " # here local variable gets priority when name of local and g\n",
        " print(\"CloudyML is \" + x) \n",
        "myfunc()\n",
        "print(\"CloudyML is \" + x)"
      ],
      "metadata": {
        "id": "JHiB_ejEe1YA",
        "colab": {
          "base_uri": "https://localhost:8080/"
        },
        "outputId": "155b1940-e241-4fca-9fac-947ee04ba726"
      },
      "execution_count": null,
      "outputs": [
        {
          "output_type": "stream",
          "name": "stdout",
          "text": [
            "CloudyML is fantastic\n",
            "CloudyML is awesome\n"
          ]
        }
      ]
    },
    {
      "cell_type": "code",
      "source": [
        "## Global variable and local variable\n",
        "\n",
        "x = 'Awesome'\n",
        "def myfunc():\n",
        "  x = \"Fantastic\"\n",
        "  print(\"it is:\", x)\n",
        "myfunc()\n",
        "print(\"it is:\", x)"
      ],
      "metadata": {
        "colab": {
          "base_uri": "https://localhost:8080/"
        },
        "id": "1LaiU7uSWQsc",
        "outputId": "0d0acae9-9825-4f87-879f-9db4e55195c9"
      },
      "execution_count": null,
      "outputs": [
        {
          "output_type": "stream",
          "name": "stdout",
          "text": [
            "it is: Fantastic\n",
            "it is: Awesome\n"
          ]
        }
      ]
    },
    {
      "cell_type": "code",
      "source": [
        " #String formatting method\n",
        "\n",
        "\n",
        "# Method 1\n",
        "quantity = 5\n",
        "item_name = \"Mango\"\n",
        "price = 10\n",
        "\n",
        "# {} is called placeholder, so 3 placehold\n",
        "order = \"I want {} pieces of {} for {} dollars.\"\n",
        "print(order.format(quantity, item_name, price))\n",
        "\n",
        "# Method 2\n",
        "order = \"I want {0} pieces of {1} for {2} dollars.\" # here 0,1,2 tells the position of qu\n",
        "print(order.format(quantity, item_name, price))\n",
        "\n",
        "# Method 3\n",
        "print(f\"I want {quantity} pieces of {item_name} for {price} dollars.\") # Observe the f out\n",
        " # names passed in\n",
        "# Method 4\n",
        "\n",
        "\n",
        "print(\"I want %d pieces of %s for %.0f dollars.\"%(quantity, item_name, price)) "
      ],
      "metadata": {
        "colab": {
          "base_uri": "https://localhost:8080/"
        },
        "id": "Dy2Dgi6pmFRe",
        "outputId": "6de8149a-d61a-4b99-f8d9-f44b2c60e81b"
      },
      "execution_count": null,
      "outputs": [
        {
          "output_type": "stream",
          "name": "stdout",
          "text": [
            "I want 5 pieces of Mango for 10 dollars.\n",
            "I want 5 pieces of Mango for 10 dollars.\n",
            "I want 5 pieces of Mango for 10 dollars.\n",
            "I want 5 pieces of Mango for 10 dollars.\n"
          ]
        }
      ]
    },
    {
      "cell_type": "code",
      "source": [
        "name = 'Raman'\n",
        "surname = \"Magar\"\n",
        "print(\"my name is\", name,\"and surname is\", surname)\n",
        "order = \"My name is {0} and Surname is {1}\"\n",
        "print(order.format(name,surname))\n",
        "print(f\"My Name is {name} and surname is {surname}\")"
      ],
      "metadata": {
        "colab": {
          "base_uri": "https://localhost:8080/"
        },
        "id": "ZG0SnzTpp7W_",
        "outputId": "11617a2e-c1fd-4bc8-d140-27d2664a3ae4"
      },
      "execution_count": null,
      "outputs": [
        {
          "output_type": "stream",
          "name": "stdout",
          "text": [
            "my name is Raman and surname is Magar\n",
            "My name is Raman and Surname is Magar\n",
            "My Name is Raman and surname is Magar\n"
          ]
        }
      ]
    },
    {
      "cell_type": "code",
      "source": [
        "## For checking Odd Even program\n",
        "\n",
        "number = int(input('Enter the number: '))\n",
        "if (number % 2) == 0:\n",
        "  print(\"{0} is even\".format(number))\n",
        "else:\n",
        "  print(\"{0} is odd\".format(number))"
      ],
      "metadata": {
        "id": "E4zbAJ39mFF4",
        "colab": {
          "base_uri": "https://localhost:8080/"
        },
        "outputId": "0edbe8c3-c1b9-49eb-eff6-76c3e9f0658b"
      },
      "execution_count": null,
      "outputs": [
        {
          "output_type": "stream",
          "name": "stdout",
          "text": [
            "Enter the number: 5\n",
            "5 is odd\n"
          ]
        }
      ]
    },
    {
      "cell_type": "code",
      "source": [
        "## Leaf Checker program\n",
        "def LeafChecker():\n",
        "  if((year % 400 ==0) or\n",
        "   (year % 100 !=0) and\n",
        "   (year % 4 ==0)):\n",
        "    print(\"given year is Leap year\")\n",
        "  else:\n",
        "    print(\"given  year is not Leap year\")\n",
        "\n",
        "\n",
        "year = int(input(\"Enter the Number\"))\n",
        "LeafChecker()"
      ],
      "metadata": {
        "colab": {
          "base_uri": "https://localhost:8080/"
        },
        "id": "dFg4bbGrIGg7",
        "outputId": "da25a310-7e8d-4722-c5f2-0e0995857aeb"
      },
      "execution_count": null,
      "outputs": [
        {
          "output_type": "stream",
          "name": "stdout",
          "text": [
            "Enter the Number2020\n",
            "given year is Leap year\n"
          ]
        }
      ]
    },
    {
      "cell_type": "code",
      "source": [
        "def PrimeChecker(a):\n",
        "  if a>1:\n",
        "    for j in range(2, int(a/2)+1):\n",
        "      if a%j ==0:\n",
        "        print('Given number is not prime number.')\n",
        "        break\n",
        "    else:\n",
        "      print('Given number is prime number.')\n",
        "  else:\n",
        "  \n",
        "    print(\"Given number is not prime number.\")\n",
        "a = int(input(\"Enter the number: \"))\n",
        "PrimeChecker(a)"
      ],
      "metadata": {
        "id": "7LFCvuiwmEvo",
        "colab": {
          "base_uri": "https://localhost:8080/"
        },
        "outputId": "92aba14b-2f89-4b26-f41b-385cb0c9761f"
      },
      "execution_count": null,
      "outputs": [
        {
          "output_type": "stream",
          "name": "stdout",
          "text": [
            "Enter the number: 19\n",
            "Given number is prime number.\n"
          ]
        }
      ]
    },
    {
      "cell_type": "code",
      "source": [
        "def PrimeChecker(a):\n",
        "  if a>1:\n",
        "    for j in range(2, int(a/2) +1):\n",
        "      if (a%j) ==0:\n",
        "        print(a, 'is not prime number')\n",
        "        break\n",
        "    else:\n",
        "      print(a,'is prime number')\n",
        "  else:\n",
        "    print(a,\"is not prime number\")\n",
        "a= int(input(\"Enter the number\"))\n",
        "PrimeChecker(a)"
      ],
      "metadata": {
        "id": "6kHHhUKKmEsW",
        "colab": {
          "base_uri": "https://localhost:8080/"
        },
        "outputId": "0b599063-400f-4ef8-d0df-98ece5afc193"
      },
      "execution_count": null,
      "outputs": [
        {
          "output_type": "stream",
          "name": "stdout",
          "text": [
            "Enter the number9\n",
            "9 is not prime number\n"
          ]
        }
      ]
    },
    {
      "cell_type": "code",
      "source": [
        "## How to convert list into string\n",
        "list = ['1','2','3','4']\n",
        "con_to_string = ' '.join(list)\n",
        "print(con_to_string)"
      ],
      "metadata": {
        "colab": {
          "base_uri": "https://localhost:8080/"
        },
        "id": "3loFR_QEWDLG",
        "outputId": "11f6a505-ca88-4991-f42f-8d1b00eb9502"
      },
      "execution_count": null,
      "outputs": [
        {
          "output_type": "stream",
          "name": "stdout",
          "text": [
            "1 2 3 4\n"
          ]
        }
      ]
    },
    {
      "cell_type": "code",
      "source": [
        "## How to convert list into tuple\n",
        "list = ['1','2','3','4']\n",
        "con_to_tuple = tuple(list)\n",
        "print(con_to_tuple)"
      ],
      "metadata": {
        "colab": {
          "base_uri": "https://localhost:8080/"
        },
        "id": "ZDJlUOMGXb8M",
        "outputId": "82f6e78c-e015-4171-caf4-a7dce29109ee"
      },
      "execution_count": null,
      "outputs": [
        {
          "output_type": "stream",
          "name": "stdout",
          "text": [
            "('1', '2', '3', '4')\n"
          ]
        }
      ]
    },
    {
      "cell_type": "code",
      "source": [
        "## How to convert list into set\n",
        "\n",
        "list = ['1','2','3','4']\n",
        "con_to_tuple = set(list)\n",
        "print(con_to_tuple)"
      ],
      "metadata": {
        "colab": {
          "base_uri": "https://localhost:8080/"
        },
        "id": "6G0gXneqZyR_",
        "outputId": "5fa55504-c861-4963-8218-dff8fb8ff64b"
      },
      "execution_count": null,
      "outputs": [
        {
          "output_type": "stream",
          "name": "stdout",
          "text": [
            "{'3', '4', '1', '2'}\n"
          ]
        }
      ]
    },
    {
      "cell_type": "code",
      "source": [
        "## How to count in a list \n",
        "\n",
        "list = ['1','2','2','2','4']\n",
        "count = list.count('2')\n",
        "print(count)"
      ],
      "metadata": {
        "colab": {
          "base_uri": "https://localhost:8080/"
        },
        "id": "C0eElYpkaV3o",
        "outputId": "3a2890cc-0b42-49b1-87e0-b572435daf96"
      },
      "execution_count": null,
      "outputs": [
        {
          "output_type": "stream",
          "name": "stdout",
          "text": [
            "3\n"
          ]
        }
      ]
    },
    {
      "cell_type": "code",
      "source": [
        "## How to count each entity in a list \n",
        "\n",
        "list = ['1','2','2','3','4']\n",
        "#count = list.count('1')\n",
        "print([[x,list.count(x)] for x in set(list)])"
      ],
      "metadata": {
        "colab": {
          "base_uri": "https://localhost:8080/"
        },
        "id": "Xmnk1iSib6Dz",
        "outputId": "434e2da6-6168-402d-9145-c000e7c2753b"
      },
      "execution_count": null,
      "outputs": [
        {
          "output_type": "stream",
          "name": "stdout",
          "text": [
            "[['2', 2], ['3', 1], ['4', 1], ['1', 1]]\n"
          ]
        }
      ]
    },
    {
      "cell_type": "code",
      "source": [
        "list1 = [1, 2, 3, 2, 5, 5, 3, 5,]\n",
        "print([[x,list1.count(x)] for x in set(list1)])"
      ],
      "metadata": {
        "colab": {
          "base_uri": "https://localhost:8080/"
        },
        "id": "nQ9RmW-eQ_NC",
        "outputId": "b71a7dc9-0b9e-4c50-812e-9a303c3f2def"
      },
      "execution_count": null,
      "outputs": [
        {
          "output_type": "stream",
          "name": "stdout",
          "text": [
            "[[1, 1], [2, 2], [3, 2], [5, 3]]\n"
          ]
        }
      ]
    },
    {
      "cell_type": "code",
      "source": [
        "print([[x, list1.count(x)] for x in set(list1)])"
      ],
      "metadata": {
        "colab": {
          "base_uri": "https://localhost:8080/"
        },
        "id": "8S0_XnNuR8k0",
        "outputId": "5968e19e-9206-419b-af97-fe215075ad5b"
      },
      "execution_count": null,
      "outputs": [
        {
          "output_type": "stream",
          "name": "stdout",
          "text": [
            "[[1, 1], [2, 2], [3, 2], [5, 3]]\n"
          ]
        }
      ]
    },
    {
      "cell_type": "code",
      "source": [
        "#another example\n",
        "list = [1,2,3,2,4,1,3,2,3,3]\n",
        "print([[x,list.count(x)] for x in set(list)])"
      ],
      "metadata": {
        "colab": {
          "base_uri": "https://localhost:8080/"
        },
        "id": "PjZHqI5Lc5DZ",
        "outputId": "db8b89bc-db54-4e5b-884e-a349a2e566d6"
      },
      "execution_count": null,
      "outputs": [
        {
          "output_type": "stream",
          "name": "stdout",
          "text": [
            "[[1, 2], [2, 3], [3, 4], [4, 1]]\n"
          ]
        }
      ]
    },
    {
      "cell_type": "code",
      "source": [
        "# How to create numpy array in python \n",
        "import numpy as np\n",
        "np.array([])\n",
        "np.array([])"
      ],
      "metadata": {
        "colab": {
          "base_uri": "https://localhost:8080/"
        },
        "id": "kOd_bu3gdre1",
        "outputId": "b33f6261-856d-4d9b-ee8f-d7246a495132"
      },
      "execution_count": null,
      "outputs": [
        {
          "output_type": "execute_result",
          "data": {
            "text/plain": [
              "array([], dtype=float64)"
            ]
          },
          "metadata": {},
          "execution_count": 22
        }
      ]
    },
    {
      "cell_type": "code",
      "source": [
        "np.empty(shape=(3,4))"
      ],
      "metadata": {
        "colab": {
          "base_uri": "https://localhost:8080/"
        },
        "id": "iDXkovmsSWG6",
        "outputId": "59648628-0599-4f15-9b8b-7c90b1f9484a"
      },
      "execution_count": null,
      "outputs": [
        {
          "output_type": "execute_result",
          "data": {
            "text/plain": [
              "array([[4.17593928e-316, 2.14321575e-312, 2.37663529e-312,\n",
              "        2.56761491e-312],\n",
              "       [2.44029516e-312, 2.05833592e-312, 2.14321575e-312,\n",
              "        8.48798317e-313],\n",
              "       [9.33678148e-313, 8.70018275e-313, 8.70018274e-313,\n",
              "        1.46030983e-319]])"
            ]
          },
          "metadata": {},
          "execution_count": 26
        }
      ]
    },
    {
      "cell_type": "code",
      "source": [
        "np.empty(shape=(3,2))"
      ],
      "metadata": {
        "colab": {
          "base_uri": "https://localhost:8080/"
        },
        "id": "SWxWU8LPekhV",
        "outputId": "6a82b6d7-0928-40c4-9f2b-9eb7bdb8c615"
      },
      "execution_count": null,
      "outputs": [
        {
          "output_type": "execute_result",
          "data": {
            "text/plain": [
              "array([[2.9918845e-316, 0.0000000e+000],\n",
              "       [0.0000000e+000, 0.0000000e+000],\n",
              "       [0.0000000e+000, 0.0000000e+000]])"
            ]
          },
          "metadata": {},
          "execution_count": 60
        }
      ]
    },
    {
      "cell_type": "code",
      "source": [
        "## Set example \n",
        "items_list = {\"Raman\", \"Ashok\", \"Magar\"}\n",
        "\n",
        "print(items_list)\n",
        "print(len(items_list))\n",
        "# how to use \"in\" Keyword\n",
        "if \"Raman\" in items_list:\n",
        "  print('Its first Nmae')\n",
        "\n",
        "# \"not in\"\n",
        "if \"Bopala\" not in items_list:\n",
        "  print(\"it's wrong\")"
      ],
      "metadata": {
        "colab": {
          "base_uri": "https://localhost:8080/"
        },
        "id": "t7IoXF_k0s_G",
        "outputId": "d5eb09ce-a48b-48b8-dff8-b9cf2a1aefe6"
      },
      "execution_count": null,
      "outputs": [
        {
          "output_type": "stream",
          "name": "stdout",
          "text": [
            "{'Magar', 'Raman', 'Ashok'}\n",
            "3\n",
            "Its first Nmae\n",
            "it's wrong\n"
          ]
        }
      ]
    },
    {
      "cell_type": "code",
      "source": [
        "## SET is immutable not change but add\n",
        "item = set()\n",
        "item.add('Bopala')\n",
        "item.add('Pune')\n",
        "item.add('Latur')\n",
        "print(item)"
      ],
      "metadata": {
        "colab": {
          "base_uri": "https://localhost:8080/"
        },
        "id": "oSl0-ahd0s8E",
        "outputId": "9624bf38-4515-40bc-e6a3-e662f93a2c17"
      },
      "execution_count": null,
      "outputs": [
        {
          "output_type": "stream",
          "name": "stdout",
          "text": [
            "{'Bopala', 'Pune', 'Latur'}\n"
          ]
        }
      ]
    },
    {
      "cell_type": "code",
      "source": [
        "## Sum of the 1 to 10\n",
        "sum(range(1,11))"
      ],
      "metadata": {
        "colab": {
          "base_uri": "https://localhost:8080/"
        },
        "id": "_Qxj1XjW0sqS",
        "outputId": "898e0235-00a0-43d7-c258-9a823f1cefad"
      },
      "execution_count": null,
      "outputs": [
        {
          "output_type": "execute_result",
          "data": {
            "text/plain": [
              "55"
            ]
          },
          "metadata": {},
          "execution_count": 118
        }
      ]
    },
    {
      "cell_type": "code",
      "source": [
        "sum(range(1,101))"
      ],
      "metadata": {
        "colab": {
          "base_uri": "https://localhost:8080/"
        },
        "id": "i6SoGYBO0sjU",
        "outputId": "a3912899-ac01-45d4-ea34-302e6939a3a0"
      },
      "execution_count": null,
      "outputs": [
        {
          "output_type": "execute_result",
          "data": {
            "text/plain": [
              "5050"
            ]
          },
          "metadata": {},
          "execution_count": 8
        }
      ]
    },
    {
      "cell_type": "code",
      "source": [
        "list_1 = [1,2,3,4,5]\n",
        "list = []\n",
        "def GetSum(list_1):\n",
        "  sum = 0\n",
        "  for digit in str(list_1):\n",
        "    sum += int(digit)\n",
        "  return sum\n",
        "n = int(input(\"Enter the input \"))\n",
        "GetSum(n)\n"
      ],
      "metadata": {
        "colab": {
          "base_uri": "https://localhost:8080/"
        },
        "id": "zaqHLcdSUiLH",
        "outputId": "0eb1840b-1707-4a04-d6af-d357cfdfbf14"
      },
      "execution_count": null,
      "outputs": [
        {
          "name": "stdout",
          "output_type": "stream",
          "text": [
            "Enter the input 1234\n"
          ]
        },
        {
          "output_type": "execute_result",
          "data": {
            "text/plain": [
              "10"
            ]
          },
          "metadata": {},
          "execution_count": 50
        }
      ]
    },
    {
      "cell_type": "code",
      "source": [
        "x = lambda a:a*5\n",
        "print(x(5))"
      ],
      "metadata": {
        "id": "14JU4npdOXMu",
        "colab": {
          "base_uri": "https://localhost:8080/"
        },
        "outputId": "ff453529-034a-4f4a-a367-6cae8e747d73"
      },
      "execution_count": null,
      "outputs": [
        {
          "output_type": "stream",
          "name": "stdout",
          "text": [
            "25\n"
          ]
        }
      ]
    },
    {
      "cell_type": "code",
      "source": [
        "# list Comphrension\n",
        "fruits = [\"apple\", \"banana\", \"cherry\", \"kiwi\", \"mango\"]\n",
        "\n",
        "newlist = [x for x in fruits if \"a\" in x]\n",
        "\n",
        "print(newlist)"
      ],
      "metadata": {
        "id": "pfrbsyG0a7-k",
        "colab": {
          "base_uri": "https://localhost:8080/"
        },
        "outputId": "9a96a353-177e-4945-af8e-77f5210b1085"
      },
      "execution_count": null,
      "outputs": [
        {
          "output_type": "stream",
          "name": "stdout",
          "text": [
            "['apple', 'banana', 'mango']\n"
          ]
        }
      ]
    },
    {
      "cell_type": "code",
      "source": [
        "fruits = [\"apple\", \"banana\", \"cherry\", \"kiwi\", \"mango\"]\n",
        "new_list = [x for x in fruits if \"r\" in x]\n",
        "print(new_list)"
      ],
      "metadata": {
        "colab": {
          "base_uri": "https://localhost:8080/"
        },
        "id": "EJ-JTe2yXDLH",
        "outputId": "82a3b264-ef02-48d9-f04b-d426c53a7934"
      },
      "execution_count": null,
      "outputs": [
        {
          "output_type": "stream",
          "name": "stdout",
          "text": [
            "['cherry']\n"
          ]
        }
      ]
    },
    {
      "cell_type": "code",
      "source": [
        "fruits = [\"apple\", \"banana\", \"cherry\", \"kiwi\", \"mango\"]\n",
        "newlist = []\n",
        "\n",
        "for x in fruits:\n",
        "  if \"a\" in x:\n",
        "    newlist.append(x)\n",
        "\n",
        "print(newlist)"
      ],
      "metadata": {
        "id": "UAarCyOPdRqB",
        "colab": {
          "base_uri": "https://localhost:8080/"
        },
        "outputId": "cfd30e2f-49a2-4979-d2b0-9cca2bdf4b61"
      },
      "execution_count": null,
      "outputs": [
        {
          "output_type": "stream",
          "name": "stdout",
          "text": [
            "['apple', 'banana', 'mango']\n"
          ]
        }
      ]
    },
    {
      "cell_type": "code",
      "source": [
        "name = [\" abc\", 'def']\n",
        "new = []\n",
        "for x in name:\n",
        "  if 'bc' in x:\n",
        "    new.append(x)\n",
        "print(new)\n"
      ],
      "metadata": {
        "colab": {
          "base_uri": "https://localhost:8080/"
        },
        "id": "KGuCtkXxeJMx",
        "outputId": "b5fdfd4f-88f4-4558-b737-eddb734326b3"
      },
      "execution_count": null,
      "outputs": [
        {
          "output_type": "stream",
          "name": "stdout",
          "text": [
            "[' abc']\n"
          ]
        }
      ]
    },
    {
      "cell_type": "code",
      "source": [
        "## Indexing\n",
        "list = [[\"ajay\", 'vijay'], 'sujay', 'nijay']\n",
        "print(len(list))\n",
        "print(list[1][2])"
      ],
      "metadata": {
        "id": "ZWYpjTGYicfK",
        "colab": {
          "base_uri": "https://localhost:8080/"
        },
        "outputId": "aad42b2b-0804-40ba-b8b6-52243e73cc28"
      },
      "execution_count": null,
      "outputs": [
        {
          "output_type": "stream",
          "name": "stdout",
          "text": [
            "3\n",
            "j\n"
          ]
        }
      ]
    },
    {
      "cell_type": "code",
      "source": [
        "#Slicing\n",
        "list = [\"ajay\", 'vijay', 'sujay', 'nijay']\n",
        "print(list[0:4:3])"
      ],
      "metadata": {
        "colab": {
          "base_uri": "https://localhost:8080/"
        },
        "id": "P1jLk6AWz_ah",
        "outputId": "bee11202-3ec2-4b1a-d7fc-7a14f7591a35"
      },
      "execution_count": null,
      "outputs": [
        {
          "output_type": "stream",
          "name": "stdout",
          "text": [
            "['ajay', 'nijay']\n"
          ]
        }
      ]
    },
    {
      "cell_type": "code",
      "source": [
        "import numpy as np"
      ],
      "metadata": {
        "id": "1p2mBs0J0zLw"
      },
      "execution_count": null,
      "outputs": []
    },
    {
      "cell_type": "code",
      "source": [
        "npy = np.arange=(1,5)"
      ],
      "metadata": {
        "id": "MlcekBBU13do"
      },
      "execution_count": null,
      "outputs": []
    },
    {
      "cell_type": "code",
      "source": [
        "print(npy)"
      ],
      "metadata": {
        "colab": {
          "base_uri": "https://localhost:8080/"
        },
        "id": "OTGNkXYr199Y",
        "outputId": "a60309f9-223b-4d71-a8e8-5e21f66bfc38"
      },
      "execution_count": null,
      "outputs": [
        {
          "output_type": "stream",
          "name": "stdout",
          "text": [
            "(1, 5)\n"
          ]
        }
      ]
    },
    {
      "cell_type": "code",
      "source": [
        " ##sum of the digits of a number in Python\n",
        "\n",
        "n=int(input(\"Enter a number:\"))\n",
        "total = 0\n",
        "\n",
        "while(n>0):\n",
        "  digit = n%10\n",
        "  total = total + digit\n",
        "  n = n//10\n",
        "print(\"The total sum of digits is:\",total)\n"
      ],
      "metadata": {
        "colab": {
          "base_uri": "https://localhost:8080/"
        },
        "id": "Em1rsGkBNINf",
        "outputId": "752de116-cc9f-4821-b0eb-4fef1f75533a"
      },
      "execution_count": null,
      "outputs": [
        {
          "output_type": "stream",
          "name": "stdout",
          "text": [
            "Enter a number:15\n",
            "The total sum of digits is: 6\n"
          ]
        }
      ]
    },
    {
      "cell_type": "code",
      "source": [
        "### Checking the palindrome\n",
        "\n",
        "n= int(input(\"Enter the number: \"))\n",
        "\n",
        "templete = n\n",
        "reverse = 0\n",
        "\n",
        "while(n>0):\n",
        "  digit = n%10\n",
        "  reverse = reverse*10 + digit\n",
        "  n = n//10\n",
        "\n",
        "if (templete == reverse):\n",
        "    print(\"given number is palendrome\")\n",
        "\n",
        "else:\n",
        "    print(\"given no is not palendrome \")\n",
        "    "
      ],
      "metadata": {
        "colab": {
          "base_uri": "https://localhost:8080/"
        },
        "id": "l9XETpjRV2W7",
        "outputId": "afaaca2f-0e19-49bb-9c4e-53a4da630661"
      },
      "execution_count": null,
      "outputs": [
        {
          "output_type": "stream",
          "name": "stdout",
          "text": [
            "Enter the number: 161\n",
            "given number is palendrome\n"
          ]
        }
      ]
    },
    {
      "cell_type": "code",
      "source": [
        "#Count the Number of Digits in a Number\n",
        "\n",
        "n= int(input(\"Enter the number: \"))\n",
        "count = 0\n",
        "while(n>0):\n",
        "  count = count+1\n",
        "  n= n//10\n",
        "print(\"no of digit in list: \",count)"
      ],
      "metadata": {
        "colab": {
          "base_uri": "https://localhost:8080/"
        },
        "id": "Tb7Lr1bna7t2",
        "outputId": "7dd0ac90-7386-41b4-d1d5-baa4495abea0"
      },
      "execution_count": null,
      "outputs": [
        {
          "output_type": "stream",
          "name": "stdout",
          "text": [
            "Enter the number: 154\n",
            "no of digit in list:  3\n"
          ]
        }
      ]
    },
    {
      "cell_type": "code",
      "source": [
        "# print table of given number\n",
        "\n",
        "n= int(input(\"Enter the input: \"))\n",
        "for i in range(1,6):\n",
        "  print(n, 'x', i, '=', n*i)\n",
        "\n"
      ],
      "metadata": {
        "colab": {
          "base_uri": "https://localhost:8080/"
        },
        "id": "INSAaAJBdvIX",
        "outputId": "fa924cc4-6f71-4a7a-829d-d560d5c47ee8"
      },
      "execution_count": null,
      "outputs": [
        {
          "output_type": "stream",
          "name": "stdout",
          "text": [
            "Enter the input: 15\n",
            "15 x 1 = 15\n",
            "15 x 2 = 30\n",
            "15 x 3 = 45\n",
            "15 x 4 = 60\n",
            "15 x 5 = 75\n"
          ]
        }
      ]
    },
    {
      "cell_type": "code",
      "source": [
        "#program to reverse a number\n",
        "\n",
        "n = int(input(\"please give a number : \"))\n",
        "print(\"before reverse your numeber is : %d\" %n)\n",
        "\n",
        "reverse = 0\n",
        "\n",
        "while n!=0:\n",
        "    reverse = reverse*10 + n%10       \n",
        "    n = (n//10)\n",
        "\n",
        "print(\"After reverse : %d\" %reverse) "
      ],
      "metadata": {
        "colab": {
          "base_uri": "https://localhost:8080/"
        },
        "id": "96VYrmMQvNQC",
        "outputId": "c83edd90-de66-4c80-b0f7-8a205c7c70a0"
      },
      "execution_count": null,
      "outputs": [
        {
          "output_type": "stream",
          "name": "stdout",
          "text": [
            "please give a number : 1545\n",
            "before reverse your numeber is : 1545\n",
            "After reverse : 5451\n"
          ]
        }
      ]
    },
    {
      "cell_type": "code",
      "source": [
        "#Program to check a number is Armstrong or not in python programming language\n",
        "\n",
        "i=0\n",
        "result=0\n",
        "n = int(input(\"please give a number : \"))\n",
        "\n",
        "number1 = n\n",
        "temp = n\n",
        "\n",
        "while n!=0:\n",
        "    n = (n//10)\n",
        "    i=i+1;\n",
        "\n",
        "while number1!=0:\n",
        "    n=number1%10\n",
        "    result=result+pow(n,i)\n",
        "    number1=number1//10\n",
        "\n",
        "if temp==result:\n",
        "    print(\"number is armstrong\")\n",
        "    \n",
        "else:\n",
        "    print(\"number is not armstrong\") "
      ],
      "metadata": {
        "colab": {
          "base_uri": "https://localhost:8080/"
        },
        "id": "e6KYBUMDvNLy",
        "outputId": "4cfd9444-2b4c-43b6-9518-4108fdd96eb8"
      },
      "execution_count": null,
      "outputs": [
        {
          "output_type": "stream",
          "name": "stdout",
          "text": [
            "please give a number : 370\n",
            "number is armstrong\n"
          ]
        }
      ]
    },
    {
      "cell_type": "code",
      "source": [
        "#Checking the no is binary or not\n",
        "\n",
        "num = int(input(\"please give a number : \"))\n",
        "while(num>0):\n",
        "    j=num%10\n",
        "    if j!=0 and j!=1:\n",
        "        print(\"num is not binary\")\n",
        "        break\n",
        "    num=num//10\n",
        "    if num==0:\n",
        "        print(\"num is binary\")"
      ],
      "metadata": {
        "id": "NEg11fFtvMJw",
        "colab": {
          "base_uri": "https://localhost:8080/"
        },
        "outputId": "f4dae45a-f003-44f2-b3d3-254c190d5f88"
      },
      "execution_count": null,
      "outputs": [
        {
          "output_type": "stream",
          "name": "stdout",
          "text": [
            "please give a number : 2424\n",
            "num is not binary\n"
          ]
        }
      ]
    },
    {
      "cell_type": "code",
      "source": [
        "#overload constructors (or methods) in Python\n",
        "\n",
        "class Student:\n",
        "  def __init__(self, name):\n",
        "    self.name = name\n",
        "\n",
        "  def __init__(self, name, email):\n",
        "    self.name = name\n",
        "    self.email = email\n",
        "\n",
        "#st = (\"rahul\")\n",
        "st = Student(\"rahul\", \"rahul@gmail.com\")\n",
        "\n",
        "print(\"name: \",st.name)\n",
        "print(\"email: \",st.email)"
      ],
      "metadata": {
        "id": "Z5UyXIvQCpq5",
        "colab": {
          "base_uri": "https://localhost:8080/"
        },
        "outputId": "aeaa6b37-b0e5-4a56-ba28-0a166f4f34ef"
      },
      "execution_count": null,
      "outputs": [
        {
          "output_type": "stream",
          "name": "stdout",
          "text": [
            "name:  rahul\n",
            "email:  rahul@gmail.com\n"
          ]
        }
      ]
    },
    {
      "cell_type": "code",
      "source": [
        "## JOIN() in string\n",
        "\n",
        "str = \"Rohan\"\n",
        "str2 = (\"abc\", \"def\")\n",
        "# Calling function\n",
        "str2 = str.join(str2)\n",
        "# Displaying result\n",
        "print(str2)"
      ],
      "metadata": {
        "colab": {
          "base_uri": "https://localhost:8080/"
        },
        "id": "0dTaHKp4luZr",
        "outputId": "2f87eabb-7bb9-4d8c-9db9-b9645f3293dc"
      },
      "execution_count": null,
      "outputs": [
        {
          "output_type": "stream",
          "name": "stdout",
          "text": [
            "abcRohandef\n"
          ]
        }
      ]
    },
    {
      "cell_type": "code",
      "source": [
        "import numpy as np\n",
        "import pandas as pd"
      ],
      "metadata": {
        "id": "-4AA_TyieAk-"
      },
      "execution_count": null,
      "outputs": []
    },
    {
      "cell_type": "code",
      "source": [
        "working_dir_path = '/content/sample_data/california_housing_test.csv'"
      ],
      "metadata": {
        "id": "B7bcBT1qluW9"
      },
      "execution_count": null,
      "outputs": []
    },
    {
      "cell_type": "code",
      "source": [
        "df = pd.read_csv(working_dir_path)"
      ],
      "metadata": {
        "id": "Lj4XgLX2luUZ"
      },
      "execution_count": null,
      "outputs": []
    },
    {
      "cell_type": "code",
      "source": [
        "df"
      ],
      "metadata": {
        "id": "PEK1v-xpluRq",
        "colab": {
          "base_uri": "https://localhost:8080/",
          "height": 488
        },
        "outputId": "1d849477-af70-421f-ffc9-9f2634f5fa17"
      },
      "execution_count": null,
      "outputs": [
        {
          "output_type": "execute_result",
          "data": {
            "text/plain": [
              "      longitude  latitude  housing_median_age  total_rooms  total_bedrooms  \\\n",
              "0       -122.05     37.37                27.0       3885.0           661.0   \n",
              "1       -118.30     34.26                43.0       1510.0           310.0   \n",
              "2       -117.81     33.78                27.0       3589.0           507.0   \n",
              "3       -118.36     33.82                28.0         67.0            15.0   \n",
              "4       -119.67     36.33                19.0       1241.0           244.0   \n",
              "...         ...       ...                 ...          ...             ...   \n",
              "2995    -119.86     34.42                23.0       1450.0           642.0   \n",
              "2996    -118.14     34.06                27.0       5257.0          1082.0   \n",
              "2997    -119.70     36.30                10.0        956.0           201.0   \n",
              "2998    -117.12     34.10                40.0         96.0            14.0   \n",
              "2999    -119.63     34.42                42.0       1765.0           263.0   \n",
              "\n",
              "      population  households  median_income  median_house_value  \n",
              "0         1537.0       606.0         6.6085            344700.0  \n",
              "1          809.0       277.0         3.5990            176500.0  \n",
              "2         1484.0       495.0         5.7934            270500.0  \n",
              "3           49.0        11.0         6.1359            330000.0  \n",
              "4          850.0       237.0         2.9375             81700.0  \n",
              "...          ...         ...            ...                 ...  \n",
              "2995      1258.0       607.0         1.1790            225000.0  \n",
              "2996      3496.0      1036.0         3.3906            237200.0  \n",
              "2997       693.0       220.0         2.2895             62000.0  \n",
              "2998        46.0        14.0         3.2708            162500.0  \n",
              "2999       753.0       260.0         8.5608            500001.0  \n",
              "\n",
              "[3000 rows x 9 columns]"
            ],
            "text/html": [
              "\n",
              "  <div id=\"df-92028b46-379d-4af9-853d-7e33d013383c\">\n",
              "    <div class=\"colab-df-container\">\n",
              "      <div>\n",
              "<style scoped>\n",
              "    .dataframe tbody tr th:only-of-type {\n",
              "        vertical-align: middle;\n",
              "    }\n",
              "\n",
              "    .dataframe tbody tr th {\n",
              "        vertical-align: top;\n",
              "    }\n",
              "\n",
              "    .dataframe thead th {\n",
              "        text-align: right;\n",
              "    }\n",
              "</style>\n",
              "<table border=\"1\" class=\"dataframe\">\n",
              "  <thead>\n",
              "    <tr style=\"text-align: right;\">\n",
              "      <th></th>\n",
              "      <th>longitude</th>\n",
              "      <th>latitude</th>\n",
              "      <th>housing_median_age</th>\n",
              "      <th>total_rooms</th>\n",
              "      <th>total_bedrooms</th>\n",
              "      <th>population</th>\n",
              "      <th>households</th>\n",
              "      <th>median_income</th>\n",
              "      <th>median_house_value</th>\n",
              "    </tr>\n",
              "  </thead>\n",
              "  <tbody>\n",
              "    <tr>\n",
              "      <th>0</th>\n",
              "      <td>-122.05</td>\n",
              "      <td>37.37</td>\n",
              "      <td>27.0</td>\n",
              "      <td>3885.0</td>\n",
              "      <td>661.0</td>\n",
              "      <td>1537.0</td>\n",
              "      <td>606.0</td>\n",
              "      <td>6.6085</td>\n",
              "      <td>344700.0</td>\n",
              "    </tr>\n",
              "    <tr>\n",
              "      <th>1</th>\n",
              "      <td>-118.30</td>\n",
              "      <td>34.26</td>\n",
              "      <td>43.0</td>\n",
              "      <td>1510.0</td>\n",
              "      <td>310.0</td>\n",
              "      <td>809.0</td>\n",
              "      <td>277.0</td>\n",
              "      <td>3.5990</td>\n",
              "      <td>176500.0</td>\n",
              "    </tr>\n",
              "    <tr>\n",
              "      <th>2</th>\n",
              "      <td>-117.81</td>\n",
              "      <td>33.78</td>\n",
              "      <td>27.0</td>\n",
              "      <td>3589.0</td>\n",
              "      <td>507.0</td>\n",
              "      <td>1484.0</td>\n",
              "      <td>495.0</td>\n",
              "      <td>5.7934</td>\n",
              "      <td>270500.0</td>\n",
              "    </tr>\n",
              "    <tr>\n",
              "      <th>3</th>\n",
              "      <td>-118.36</td>\n",
              "      <td>33.82</td>\n",
              "      <td>28.0</td>\n",
              "      <td>67.0</td>\n",
              "      <td>15.0</td>\n",
              "      <td>49.0</td>\n",
              "      <td>11.0</td>\n",
              "      <td>6.1359</td>\n",
              "      <td>330000.0</td>\n",
              "    </tr>\n",
              "    <tr>\n",
              "      <th>4</th>\n",
              "      <td>-119.67</td>\n",
              "      <td>36.33</td>\n",
              "      <td>19.0</td>\n",
              "      <td>1241.0</td>\n",
              "      <td>244.0</td>\n",
              "      <td>850.0</td>\n",
              "      <td>237.0</td>\n",
              "      <td>2.9375</td>\n",
              "      <td>81700.0</td>\n",
              "    </tr>\n",
              "    <tr>\n",
              "      <th>...</th>\n",
              "      <td>...</td>\n",
              "      <td>...</td>\n",
              "      <td>...</td>\n",
              "      <td>...</td>\n",
              "      <td>...</td>\n",
              "      <td>...</td>\n",
              "      <td>...</td>\n",
              "      <td>...</td>\n",
              "      <td>...</td>\n",
              "    </tr>\n",
              "    <tr>\n",
              "      <th>2995</th>\n",
              "      <td>-119.86</td>\n",
              "      <td>34.42</td>\n",
              "      <td>23.0</td>\n",
              "      <td>1450.0</td>\n",
              "      <td>642.0</td>\n",
              "      <td>1258.0</td>\n",
              "      <td>607.0</td>\n",
              "      <td>1.1790</td>\n",
              "      <td>225000.0</td>\n",
              "    </tr>\n",
              "    <tr>\n",
              "      <th>2996</th>\n",
              "      <td>-118.14</td>\n",
              "      <td>34.06</td>\n",
              "      <td>27.0</td>\n",
              "      <td>5257.0</td>\n",
              "      <td>1082.0</td>\n",
              "      <td>3496.0</td>\n",
              "      <td>1036.0</td>\n",
              "      <td>3.3906</td>\n",
              "      <td>237200.0</td>\n",
              "    </tr>\n",
              "    <tr>\n",
              "      <th>2997</th>\n",
              "      <td>-119.70</td>\n",
              "      <td>36.30</td>\n",
              "      <td>10.0</td>\n",
              "      <td>956.0</td>\n",
              "      <td>201.0</td>\n",
              "      <td>693.0</td>\n",
              "      <td>220.0</td>\n",
              "      <td>2.2895</td>\n",
              "      <td>62000.0</td>\n",
              "    </tr>\n",
              "    <tr>\n",
              "      <th>2998</th>\n",
              "      <td>-117.12</td>\n",
              "      <td>34.10</td>\n",
              "      <td>40.0</td>\n",
              "      <td>96.0</td>\n",
              "      <td>14.0</td>\n",
              "      <td>46.0</td>\n",
              "      <td>14.0</td>\n",
              "      <td>3.2708</td>\n",
              "      <td>162500.0</td>\n",
              "    </tr>\n",
              "    <tr>\n",
              "      <th>2999</th>\n",
              "      <td>-119.63</td>\n",
              "      <td>34.42</td>\n",
              "      <td>42.0</td>\n",
              "      <td>1765.0</td>\n",
              "      <td>263.0</td>\n",
              "      <td>753.0</td>\n",
              "      <td>260.0</td>\n",
              "      <td>8.5608</td>\n",
              "      <td>500001.0</td>\n",
              "    </tr>\n",
              "  </tbody>\n",
              "</table>\n",
              "<p>3000 rows × 9 columns</p>\n",
              "</div>\n",
              "      <button class=\"colab-df-convert\" onclick=\"convertToInteractive('df-92028b46-379d-4af9-853d-7e33d013383c')\"\n",
              "              title=\"Convert this dataframe to an interactive table.\"\n",
              "              style=\"display:none;\">\n",
              "        \n",
              "  <svg xmlns=\"http://www.w3.org/2000/svg\" height=\"24px\"viewBox=\"0 0 24 24\"\n",
              "       width=\"24px\">\n",
              "    <path d=\"M0 0h24v24H0V0z\" fill=\"none\"/>\n",
              "    <path d=\"M18.56 5.44l.94 2.06.94-2.06 2.06-.94-2.06-.94-.94-2.06-.94 2.06-2.06.94zm-11 1L8.5 8.5l.94-2.06 2.06-.94-2.06-.94L8.5 2.5l-.94 2.06-2.06.94zm10 10l.94 2.06.94-2.06 2.06-.94-2.06-.94-.94-2.06-.94 2.06-2.06.94z\"/><path d=\"M17.41 7.96l-1.37-1.37c-.4-.4-.92-.59-1.43-.59-.52 0-1.04.2-1.43.59L10.3 9.45l-7.72 7.72c-.78.78-.78 2.05 0 2.83L4 21.41c.39.39.9.59 1.41.59.51 0 1.02-.2 1.41-.59l7.78-7.78 2.81-2.81c.8-.78.8-2.07 0-2.86zM5.41 20L4 18.59l7.72-7.72 1.47 1.35L5.41 20z\"/>\n",
              "  </svg>\n",
              "      </button>\n",
              "      \n",
              "  <style>\n",
              "    .colab-df-container {\n",
              "      display:flex;\n",
              "      flex-wrap:wrap;\n",
              "      gap: 12px;\n",
              "    }\n",
              "\n",
              "    .colab-df-convert {\n",
              "      background-color: #E8F0FE;\n",
              "      border: none;\n",
              "      border-radius: 50%;\n",
              "      cursor: pointer;\n",
              "      display: none;\n",
              "      fill: #1967D2;\n",
              "      height: 32px;\n",
              "      padding: 0 0 0 0;\n",
              "      width: 32px;\n",
              "    }\n",
              "\n",
              "    .colab-df-convert:hover {\n",
              "      background-color: #E2EBFA;\n",
              "      box-shadow: 0px 1px 2px rgba(60, 64, 67, 0.3), 0px 1px 3px 1px rgba(60, 64, 67, 0.15);\n",
              "      fill: #174EA6;\n",
              "    }\n",
              "\n",
              "    [theme=dark] .colab-df-convert {\n",
              "      background-color: #3B4455;\n",
              "      fill: #D2E3FC;\n",
              "    }\n",
              "\n",
              "    [theme=dark] .colab-df-convert:hover {\n",
              "      background-color: #434B5C;\n",
              "      box-shadow: 0px 1px 3px 1px rgba(0, 0, 0, 0.15);\n",
              "      filter: drop-shadow(0px 1px 2px rgba(0, 0, 0, 0.3));\n",
              "      fill: #FFFFFF;\n",
              "    }\n",
              "  </style>\n",
              "\n",
              "      <script>\n",
              "        const buttonEl =\n",
              "          document.querySelector('#df-92028b46-379d-4af9-853d-7e33d013383c button.colab-df-convert');\n",
              "        buttonEl.style.display =\n",
              "          google.colab.kernel.accessAllowed ? 'block' : 'none';\n",
              "\n",
              "        async function convertToInteractive(key) {\n",
              "          const element = document.querySelector('#df-92028b46-379d-4af9-853d-7e33d013383c');\n",
              "          const dataTable =\n",
              "            await google.colab.kernel.invokeFunction('convertToInteractive',\n",
              "                                                     [key], {});\n",
              "          if (!dataTable) return;\n",
              "\n",
              "          const docLinkHtml = 'Like what you see? Visit the ' +\n",
              "            '<a target=\"_blank\" href=https://colab.research.google.com/notebooks/data_table.ipynb>data table notebook</a>'\n",
              "            + ' to learn more about interactive tables.';\n",
              "          element.innerHTML = '';\n",
              "          dataTable['output_type'] = 'display_data';\n",
              "          await google.colab.output.renderOutput(dataTable, element);\n",
              "          const docLink = document.createElement('div');\n",
              "          docLink.innerHTML = docLinkHtml;\n",
              "          element.appendChild(docLink);\n",
              "        }\n",
              "      </script>\n",
              "    </div>\n",
              "  </div>\n",
              "  "
            ]
          },
          "metadata": {},
          "execution_count": 4
        }
      ]
    },
    {
      "cell_type": "code",
      "source": [
        "df.shape"
      ],
      "metadata": {
        "id": "zCBnQYGnluOr",
        "colab": {
          "base_uri": "https://localhost:8080/"
        },
        "outputId": "9fd81e4d-23a8-4239-fb05-2aaad5a3cb70"
      },
      "execution_count": null,
      "outputs": [
        {
          "output_type": "execute_result",
          "data": {
            "text/plain": [
              "(3000, 9)"
            ]
          },
          "metadata": {},
          "execution_count": 5
        }
      ]
    },
    {
      "cell_type": "code",
      "source": [
        "df.isnull()"
      ],
      "metadata": {
        "id": "XamlRqL1luL9",
        "colab": {
          "base_uri": "https://localhost:8080/",
          "height": 488
        },
        "outputId": "f259aa20-7009-4717-f4fc-c0e72e1295da"
      },
      "execution_count": null,
      "outputs": [
        {
          "output_type": "execute_result",
          "data": {
            "text/plain": [
              "      longitude  latitude  housing_median_age  total_rooms  total_bedrooms  \\\n",
              "0         False     False               False        False           False   \n",
              "1         False     False               False        False           False   \n",
              "2         False     False               False        False           False   \n",
              "3         False     False               False        False           False   \n",
              "4         False     False               False        False           False   \n",
              "...         ...       ...                 ...          ...             ...   \n",
              "2995      False     False               False        False           False   \n",
              "2996      False     False               False        False           False   \n",
              "2997      False     False               False        False           False   \n",
              "2998      False     False               False        False           False   \n",
              "2999      False     False               False        False           False   \n",
              "\n",
              "      population  households  median_income  median_house_value  \n",
              "0          False       False          False               False  \n",
              "1          False       False          False               False  \n",
              "2          False       False          False               False  \n",
              "3          False       False          False               False  \n",
              "4          False       False          False               False  \n",
              "...          ...         ...            ...                 ...  \n",
              "2995       False       False          False               False  \n",
              "2996       False       False          False               False  \n",
              "2997       False       False          False               False  \n",
              "2998       False       False          False               False  \n",
              "2999       False       False          False               False  \n",
              "\n",
              "[3000 rows x 9 columns]"
            ],
            "text/html": [
              "\n",
              "  <div id=\"df-da3511b0-427e-4a63-9557-1adb3af60218\">\n",
              "    <div class=\"colab-df-container\">\n",
              "      <div>\n",
              "<style scoped>\n",
              "    .dataframe tbody tr th:only-of-type {\n",
              "        vertical-align: middle;\n",
              "    }\n",
              "\n",
              "    .dataframe tbody tr th {\n",
              "        vertical-align: top;\n",
              "    }\n",
              "\n",
              "    .dataframe thead th {\n",
              "        text-align: right;\n",
              "    }\n",
              "</style>\n",
              "<table border=\"1\" class=\"dataframe\">\n",
              "  <thead>\n",
              "    <tr style=\"text-align: right;\">\n",
              "      <th></th>\n",
              "      <th>longitude</th>\n",
              "      <th>latitude</th>\n",
              "      <th>housing_median_age</th>\n",
              "      <th>total_rooms</th>\n",
              "      <th>total_bedrooms</th>\n",
              "      <th>population</th>\n",
              "      <th>households</th>\n",
              "      <th>median_income</th>\n",
              "      <th>median_house_value</th>\n",
              "    </tr>\n",
              "  </thead>\n",
              "  <tbody>\n",
              "    <tr>\n",
              "      <th>0</th>\n",
              "      <td>False</td>\n",
              "      <td>False</td>\n",
              "      <td>False</td>\n",
              "      <td>False</td>\n",
              "      <td>False</td>\n",
              "      <td>False</td>\n",
              "      <td>False</td>\n",
              "      <td>False</td>\n",
              "      <td>False</td>\n",
              "    </tr>\n",
              "    <tr>\n",
              "      <th>1</th>\n",
              "      <td>False</td>\n",
              "      <td>False</td>\n",
              "      <td>False</td>\n",
              "      <td>False</td>\n",
              "      <td>False</td>\n",
              "      <td>False</td>\n",
              "      <td>False</td>\n",
              "      <td>False</td>\n",
              "      <td>False</td>\n",
              "    </tr>\n",
              "    <tr>\n",
              "      <th>2</th>\n",
              "      <td>False</td>\n",
              "      <td>False</td>\n",
              "      <td>False</td>\n",
              "      <td>False</td>\n",
              "      <td>False</td>\n",
              "      <td>False</td>\n",
              "      <td>False</td>\n",
              "      <td>False</td>\n",
              "      <td>False</td>\n",
              "    </tr>\n",
              "    <tr>\n",
              "      <th>3</th>\n",
              "      <td>False</td>\n",
              "      <td>False</td>\n",
              "      <td>False</td>\n",
              "      <td>False</td>\n",
              "      <td>False</td>\n",
              "      <td>False</td>\n",
              "      <td>False</td>\n",
              "      <td>False</td>\n",
              "      <td>False</td>\n",
              "    </tr>\n",
              "    <tr>\n",
              "      <th>4</th>\n",
              "      <td>False</td>\n",
              "      <td>False</td>\n",
              "      <td>False</td>\n",
              "      <td>False</td>\n",
              "      <td>False</td>\n",
              "      <td>False</td>\n",
              "      <td>False</td>\n",
              "      <td>False</td>\n",
              "      <td>False</td>\n",
              "    </tr>\n",
              "    <tr>\n",
              "      <th>...</th>\n",
              "      <td>...</td>\n",
              "      <td>...</td>\n",
              "      <td>...</td>\n",
              "      <td>...</td>\n",
              "      <td>...</td>\n",
              "      <td>...</td>\n",
              "      <td>...</td>\n",
              "      <td>...</td>\n",
              "      <td>...</td>\n",
              "    </tr>\n",
              "    <tr>\n",
              "      <th>2995</th>\n",
              "      <td>False</td>\n",
              "      <td>False</td>\n",
              "      <td>False</td>\n",
              "      <td>False</td>\n",
              "      <td>False</td>\n",
              "      <td>False</td>\n",
              "      <td>False</td>\n",
              "      <td>False</td>\n",
              "      <td>False</td>\n",
              "    </tr>\n",
              "    <tr>\n",
              "      <th>2996</th>\n",
              "      <td>False</td>\n",
              "      <td>False</td>\n",
              "      <td>False</td>\n",
              "      <td>False</td>\n",
              "      <td>False</td>\n",
              "      <td>False</td>\n",
              "      <td>False</td>\n",
              "      <td>False</td>\n",
              "      <td>False</td>\n",
              "    </tr>\n",
              "    <tr>\n",
              "      <th>2997</th>\n",
              "      <td>False</td>\n",
              "      <td>False</td>\n",
              "      <td>False</td>\n",
              "      <td>False</td>\n",
              "      <td>False</td>\n",
              "      <td>False</td>\n",
              "      <td>False</td>\n",
              "      <td>False</td>\n",
              "      <td>False</td>\n",
              "    </tr>\n",
              "    <tr>\n",
              "      <th>2998</th>\n",
              "      <td>False</td>\n",
              "      <td>False</td>\n",
              "      <td>False</td>\n",
              "      <td>False</td>\n",
              "      <td>False</td>\n",
              "      <td>False</td>\n",
              "      <td>False</td>\n",
              "      <td>False</td>\n",
              "      <td>False</td>\n",
              "    </tr>\n",
              "    <tr>\n",
              "      <th>2999</th>\n",
              "      <td>False</td>\n",
              "      <td>False</td>\n",
              "      <td>False</td>\n",
              "      <td>False</td>\n",
              "      <td>False</td>\n",
              "      <td>False</td>\n",
              "      <td>False</td>\n",
              "      <td>False</td>\n",
              "      <td>False</td>\n",
              "    </tr>\n",
              "  </tbody>\n",
              "</table>\n",
              "<p>3000 rows × 9 columns</p>\n",
              "</div>\n",
              "      <button class=\"colab-df-convert\" onclick=\"convertToInteractive('df-da3511b0-427e-4a63-9557-1adb3af60218')\"\n",
              "              title=\"Convert this dataframe to an interactive table.\"\n",
              "              style=\"display:none;\">\n",
              "        \n",
              "  <svg xmlns=\"http://www.w3.org/2000/svg\" height=\"24px\"viewBox=\"0 0 24 24\"\n",
              "       width=\"24px\">\n",
              "    <path d=\"M0 0h24v24H0V0z\" fill=\"none\"/>\n",
              "    <path d=\"M18.56 5.44l.94 2.06.94-2.06 2.06-.94-2.06-.94-.94-2.06-.94 2.06-2.06.94zm-11 1L8.5 8.5l.94-2.06 2.06-.94-2.06-.94L8.5 2.5l-.94 2.06-2.06.94zm10 10l.94 2.06.94-2.06 2.06-.94-2.06-.94-.94-2.06-.94 2.06-2.06.94z\"/><path d=\"M17.41 7.96l-1.37-1.37c-.4-.4-.92-.59-1.43-.59-.52 0-1.04.2-1.43.59L10.3 9.45l-7.72 7.72c-.78.78-.78 2.05 0 2.83L4 21.41c.39.39.9.59 1.41.59.51 0 1.02-.2 1.41-.59l7.78-7.78 2.81-2.81c.8-.78.8-2.07 0-2.86zM5.41 20L4 18.59l7.72-7.72 1.47 1.35L5.41 20z\"/>\n",
              "  </svg>\n",
              "      </button>\n",
              "      \n",
              "  <style>\n",
              "    .colab-df-container {\n",
              "      display:flex;\n",
              "      flex-wrap:wrap;\n",
              "      gap: 12px;\n",
              "    }\n",
              "\n",
              "    .colab-df-convert {\n",
              "      background-color: #E8F0FE;\n",
              "      border: none;\n",
              "      border-radius: 50%;\n",
              "      cursor: pointer;\n",
              "      display: none;\n",
              "      fill: #1967D2;\n",
              "      height: 32px;\n",
              "      padding: 0 0 0 0;\n",
              "      width: 32px;\n",
              "    }\n",
              "\n",
              "    .colab-df-convert:hover {\n",
              "      background-color: #E2EBFA;\n",
              "      box-shadow: 0px 1px 2px rgba(60, 64, 67, 0.3), 0px 1px 3px 1px rgba(60, 64, 67, 0.15);\n",
              "      fill: #174EA6;\n",
              "    }\n",
              "\n",
              "    [theme=dark] .colab-df-convert {\n",
              "      background-color: #3B4455;\n",
              "      fill: #D2E3FC;\n",
              "    }\n",
              "\n",
              "    [theme=dark] .colab-df-convert:hover {\n",
              "      background-color: #434B5C;\n",
              "      box-shadow: 0px 1px 3px 1px rgba(0, 0, 0, 0.15);\n",
              "      filter: drop-shadow(0px 1px 2px rgba(0, 0, 0, 0.3));\n",
              "      fill: #FFFFFF;\n",
              "    }\n",
              "  </style>\n",
              "\n",
              "      <script>\n",
              "        const buttonEl =\n",
              "          document.querySelector('#df-da3511b0-427e-4a63-9557-1adb3af60218 button.colab-df-convert');\n",
              "        buttonEl.style.display =\n",
              "          google.colab.kernel.accessAllowed ? 'block' : 'none';\n",
              "\n",
              "        async function convertToInteractive(key) {\n",
              "          const element = document.querySelector('#df-da3511b0-427e-4a63-9557-1adb3af60218');\n",
              "          const dataTable =\n",
              "            await google.colab.kernel.invokeFunction('convertToInteractive',\n",
              "                                                     [key], {});\n",
              "          if (!dataTable) return;\n",
              "\n",
              "          const docLinkHtml = 'Like what you see? Visit the ' +\n",
              "            '<a target=\"_blank\" href=https://colab.research.google.com/notebooks/data_table.ipynb>data table notebook</a>'\n",
              "            + ' to learn more about interactive tables.';\n",
              "          element.innerHTML = '';\n",
              "          dataTable['output_type'] = 'display_data';\n",
              "          await google.colab.output.renderOutput(dataTable, element);\n",
              "          const docLink = document.createElement('div');\n",
              "          docLink.innerHTML = docLinkHtml;\n",
              "          element.appendChild(docLink);\n",
              "        }\n",
              "      </script>\n",
              "    </div>\n",
              "  </div>\n",
              "  "
            ]
          },
          "metadata": {},
          "execution_count": 6
        }
      ]
    },
    {
      "cell_type": "code",
      "source": [
        "df.info()"
      ],
      "metadata": {
        "id": "RuA9RwC5luI_",
        "colab": {
          "base_uri": "https://localhost:8080/"
        },
        "outputId": "5f6d3733-8196-4ed1-ccdc-36d146947022"
      },
      "execution_count": null,
      "outputs": [
        {
          "output_type": "stream",
          "name": "stdout",
          "text": [
            "<class 'pandas.core.frame.DataFrame'>\n",
            "RangeIndex: 3000 entries, 0 to 2999\n",
            "Data columns (total 9 columns):\n",
            " #   Column              Non-Null Count  Dtype  \n",
            "---  ------              --------------  -----  \n",
            " 0   longitude           3000 non-null   float64\n",
            " 1   latitude            3000 non-null   float64\n",
            " 2   housing_median_age  3000 non-null   float64\n",
            " 3   total_rooms         3000 non-null   float64\n",
            " 4   total_bedrooms      3000 non-null   float64\n",
            " 5   population          3000 non-null   float64\n",
            " 6   households          3000 non-null   float64\n",
            " 7   median_income       3000 non-null   float64\n",
            " 8   median_house_value  3000 non-null   float64\n",
            "dtypes: float64(9)\n",
            "memory usage: 211.1 KB\n"
          ]
        }
      ]
    },
    {
      "cell_type": "code",
      "source": [
        "## Use of sort function\n",
        "\n",
        "list = [2, 5, 7, 8, 1]\n",
        "list = [int(i) for i in list]\n",
        "list.sort()\n",
        "print (list)"
      ],
      "metadata": {
        "id": "gO4Otb1KnutX",
        "colab": {
          "base_uri": "https://localhost:8080/"
        },
        "outputId": "10787c6a-6b64-462d-92fe-25337c5dfb5d"
      },
      "execution_count": null,
      "outputs": [
        {
          "output_type": "stream",
          "name": "stdout",
          "text": [
            "[1, 2, 5, 7, 8]\n"
          ]
        }
      ]
    },
    {
      "cell_type": "code",
      "source": [
        "## Use of .reverse function\n",
        "\n",
        "list.reverse()\n",
        "print(list)"
      ],
      "metadata": {
        "colab": {
          "base_uri": "https://localhost:8080/"
        },
        "id": "3dwpUwMglHnr",
        "outputId": "8002276e-6463-4054-8d6e-ce27d8cf4e73"
      },
      "execution_count": null,
      "outputs": [
        {
          "output_type": "stream",
          "name": "stdout",
          "text": [
            "[8, 7, 5, 2, 1]\n"
          ]
        }
      ]
    },
    {
      "cell_type": "code",
      "source": [
        "a= [10,20]\n",
        "b= a\n",
        "b += [30,40]\n",
        "print(a)"
      ],
      "metadata": {
        "colab": {
          "base_uri": "https://localhost:8080/"
        },
        "id": "NMimuXBylHcq",
        "outputId": "5b77b7d2-992d-4333-b6ec-18e654c73280"
      },
      "execution_count": null,
      "outputs": [
        {
          "output_type": "stream",
          "name": "stdout",
          "text": [
            "[10, 20, 30, 40]\n"
          ]
        }
      ]
    },
    {
      "cell_type": "code",
      "source": [
        "x = lambda a, b, c : a + b + c\n",
        "print(x(5, 6, 2))"
      ],
      "metadata": {
        "colab": {
          "base_uri": "https://localhost:8080/"
        },
        "id": "eC0dCKGClHTs",
        "outputId": "b41662b8-c80b-4b9f-e894-fcd002b16a0d"
      },
      "execution_count": null,
      "outputs": [
        {
          "output_type": "stream",
          "name": "stdout",
          "text": [
            "13\n"
          ]
        }
      ]
    },
    {
      "cell_type": "code",
      "source": [
        "## use of *args\n",
        "\n",
        "def func(*args):\n",
        "  for i in args:\n",
        "    print(i)\n",
        "func(3,2,1,4,7)"
      ],
      "metadata": {
        "colab": {
          "base_uri": "https://localhost:8080/"
        },
        "id": "CxSpIpF-lHRA",
        "outputId": "b53b12cb-84de-4039-87aa-fa4971808682"
      },
      "execution_count": null,
      "outputs": [
        {
          "output_type": "stream",
          "name": "stdout",
          "text": [
            "3\n",
            "2\n",
            "1\n",
            "4\n",
            "7\n"
          ]
        }
      ]
    },
    {
      "cell_type": "code",
      "source": [
        "## Use **kwargs\n",
        "\n",
        "def func(**kwargs):\n",
        "  for i in kwargs:\n",
        "    print(i,kwargs[i])\n",
        "func(a=1,b=3,c=5)"
      ],
      "metadata": {
        "colab": {
          "base_uri": "https://localhost:8080/"
        },
        "id": "KEnwDJ05lHNP",
        "outputId": "75d017ff-156d-49dd-8c52-e65fffd29e8e"
      },
      "execution_count": null,
      "outputs": [
        {
          "output_type": "stream",
          "name": "stdout",
          "text": [
            "a 1\n",
            "b 3\n",
            "c 5\n"
          ]
        }
      ]
    },
    {
      "cell_type": "code",
      "source": [
        " a = [1,2,3]\n",
        " b= [3,2,1]\n",
        " b,a = a,b"
      ],
      "metadata": {
        "id": "HFnqGdablHKK"
      },
      "execution_count": null,
      "outputs": []
    },
    {
      "cell_type": "code",
      "source": [
        "a"
      ],
      "metadata": {
        "colab": {
          "base_uri": "https://localhost:8080/"
        },
        "id": "uTp7d6dpGxwO",
        "outputId": "a6531159-0e73-4fdc-e32d-d54c58bec939"
      },
      "execution_count": null,
      "outputs": [
        {
          "output_type": "execute_result",
          "data": {
            "text/plain": [
              "[3, 2, 1]"
            ]
          },
          "metadata": {},
          "execution_count": 2
        }
      ]
    },
    {
      "cell_type": "code",
      "source": [
        "b\n",
        "print(len(b))"
      ],
      "metadata": {
        "id": "Z-Q1E8upsM5S",
        "colab": {
          "base_uri": "https://localhost:8080/"
        },
        "outputId": "3513c706-75ac-47a4-d860-7a1ceb27c3e4"
      },
      "execution_count": null,
      "outputs": [
        {
          "output_type": "stream",
          "name": "stdout",
          "text": [
            "3\n"
          ]
        }
      ]
    },
    {
      "cell_type": "code",
      "source": [
        "c= '\\\\r'\n",
        "print(len(c))"
      ],
      "metadata": {
        "id": "n4G3ov8esM0K",
        "colab": {
          "base_uri": "https://localhost:8080/"
        },
        "outputId": "6dd59aa5-d884-4ccb-f4e3-b159bbe1b82f"
      },
      "execution_count": null,
      "outputs": [
        {
          "output_type": "stream",
          "name": "stdout",
          "text": [
            "2\n"
          ]
        }
      ]
    },
    {
      "cell_type": "code",
      "source": [
        "0>1\n"
      ],
      "metadata": {
        "id": "ibG6vG1ssMvY",
        "colab": {
          "base_uri": "https://localhost:8080/"
        },
        "outputId": "8874be66-a54a-4792-a0c7-e6cfce8d5e13"
      },
      "execution_count": null,
      "outputs": [
        {
          "output_type": "execute_result",
          "data": {
            "text/plain": [
              "False"
            ]
          },
          "metadata": {},
          "execution_count": 10
        }
      ]
    },
    {
      "cell_type": "code",
      "source": [
        "0<1"
      ],
      "metadata": {
        "id": "its8vRmNsMsQ",
        "colab": {
          "base_uri": "https://localhost:8080/"
        },
        "outputId": "4270c7dc-f2aa-4b4f-9d0d-3da7d7cd534d"
      },
      "execution_count": null,
      "outputs": [
        {
          "output_type": "execute_result",
          "data": {
            "text/plain": [
              "True"
            ]
          },
          "metadata": {},
          "execution_count": 11
        }
      ]
    },
    {
      "cell_type": "code",
      "source": [
        "## Convert numbers into String\n",
        "\n",
        "a= 1,1,22,2,2,2,2\n",
        "b= str(a)\n",
        "print(b)"
      ],
      "metadata": {
        "id": "dNJ6C18usMop",
        "colab": {
          "base_uri": "https://localhost:8080/"
        },
        "outputId": "f229a1c4-3736-4e51-8cf8-9264a77c5969"
      },
      "execution_count": null,
      "outputs": [
        {
          "output_type": "stream",
          "name": "stdout",
          "text": [
            "(1, 1, 22, 2, 2, 2, 2)\n"
          ]
        }
      ]
    },
    {
      "cell_type": "code",
      "source": [
        ""
      ],
      "metadata": {
        "id": "8wgk9Fq9sMPb"
      },
      "execution_count": null,
      "outputs": []
    },
    {
      "cell_type": "code",
      "source": [
        ""
      ],
      "metadata": {
        "id": "LDHC_1FJ03oX"
      },
      "execution_count": null,
      "outputs": []
    },
    {
      "cell_type": "code",
      "source": [
        ""
      ],
      "metadata": {
        "id": "uTdZpYpM03kL"
      },
      "execution_count": null,
      "outputs": []
    },
    {
      "cell_type": "code",
      "source": [
        ""
      ],
      "metadata": {
        "id": "cDenu9jF03cR"
      },
      "execution_count": null,
      "outputs": []
    },
    {
      "cell_type": "code",
      "source": [
        ""
      ],
      "metadata": {
        "id": "go2c2zn003Y9"
      },
      "execution_count": null,
      "outputs": []
    },
    {
      "cell_type": "code",
      "source": [
        ""
      ],
      "metadata": {
        "id": "DasXPMNv03Vj"
      },
      "execution_count": null,
      "outputs": []
    },
    {
      "cell_type": "code",
      "source": [
        ""
      ],
      "metadata": {
        "id": "K5Q-3qat03Rp"
      },
      "execution_count": null,
      "outputs": []
    },
    {
      "cell_type": "code",
      "source": [
        ""
      ],
      "metadata": {
        "id": "B8gEeTXP03Iz"
      },
      "execution_count": null,
      "outputs": []
    },
    {
      "cell_type": "code",
      "source": [
        ""
      ],
      "metadata": {
        "id": "vpxCnZwlsMIM"
      },
      "execution_count": null,
      "outputs": []
    }
  ]
}