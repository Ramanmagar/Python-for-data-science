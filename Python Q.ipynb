{
  "nbformat": 4,
  "nbformat_minor": 0,
  "metadata": {
    "colab": {
      "name": "Untitled5.ipynb",
      "provenance": [],
      "collapsed_sections": [],
      "authorship_tag": "ABX9TyPxP+UNK9KOJN5AAvk5+c7S",
      "include_colab_link": true
    },
    "kernelspec": {
      "name": "python3",
      "display_name": "Python 3"
    },
    "language_info": {
      "name": "python"
    }
  },
  "cells": [
    {
      "cell_type": "markdown",
      "metadata": {
        "id": "view-in-github",
        "colab_type": "text"
      },
      "source": [
        "<a href=\"https://colab.research.google.com/github/Ramanmagar/Python-for-data-science/blob/main/Python%20Q.ipynb\" target=\"_parent\"><img src=\"https://colab.research.google.com/assets/colab-badge.svg\" alt=\"Open In Colab\"/></a>"
      ]
    },
    {
      "cell_type": "code",
      "execution_count": 4,
      "metadata": {
        "id": "kPg4gd32S_81"
      },
      "outputs": [],
      "source": [
        "import numpy as np\n",
        "import pandas as pd"
      ]
    },
    {
      "cell_type": "code",
      "source": [
        "np_array = np.ones((4,4))\n",
        "\n"
      ],
      "metadata": {
        "id": "1bWGcB5CTDtY"
      },
      "execution_count": null,
      "outputs": []
    },
    {
      "cell_type": "code",
      "source": [
        "np_array"
      ],
      "metadata": {
        "colab": {
          "base_uri": "https://localhost:8080/"
        },
        "id": "bvrauoF1TDw5",
        "outputId": "41e09d8d-f4db-4596-b1a5-650fa59c5d94"
      },
      "execution_count": null,
      "outputs": [
        {
          "output_type": "execute_result",
          "data": {
            "text/plain": [
              "array([[1., 1., 1., 1.],\n",
              "       [1., 1., 1., 1.],\n",
              "       [1., 1., 1., 1.],\n",
              "       [1., 1., 1., 1.]])"
            ]
          },
          "metadata": {},
          "execution_count": 3
        }
      ]
    },
    {
      "cell_type": "markdown",
      "source": [
        "odd evan number program "
      ],
      "metadata": {
        "id": "pjAfs1JFG_ws"
      }
    },
    {
      "cell_type": "code",
      "source": [
        "### odd evan number program \n",
        "\n",
        "num = int(input(\"Enter the number: \"))\n",
        "\n",
        "if (num % 2) == 0:\n",
        "  print(\"{0} is even\".format(num))\n",
        "else:\n",
        "  print(\"{0} is odd\".format(num))"
      ],
      "metadata": {
        "id": "o_mpwTzITDz_",
        "colab": {
          "base_uri": "https://localhost:8080/"
        },
        "outputId": "8db99893-5e96-40e4-e511-e72afebbd145"
      },
      "execution_count": null,
      "outputs": [
        {
          "output_type": "stream",
          "name": "stdout",
          "text": [
            "Enter the number: 5\n",
            "5 is odd\n"
          ]
        }
      ]
    },
    {
      "cell_type": "markdown",
      "source": [
        "Check the prime number"
      ],
      "metadata": {
        "id": "4Yja7NyyG6GG"
      }
    },
    {
      "cell_type": "code",
      "source": [
        "def PrimeChecker(num):\n",
        "  if num>1:\n",
        "    for j in range(2, num//2+1):\n",
        "      if num % j ==0:\n",
        "        print(\"is't prime number\")\n",
        "        break\n",
        "    else:\n",
        "      print(\"prime number\")\n",
        "  else:\n",
        "    print(\"is't prime\")\n",
        "\n",
        "num = int(input(\"Enter the number: \"))\n",
        "PrimeChecker(num)"
      ],
      "metadata": {
        "colab": {
          "base_uri": "https://localhost:8080/"
        },
        "id": "n_GawF7KZTVd",
        "outputId": "354574bb-12b6-4e5c-deec-011171c4b102"
      },
      "execution_count": null,
      "outputs": [
        {
          "output_type": "stream",
          "name": "stdout",
          "text": [
            "Enter the number: 15\n",
            "is't prime number\n"
          ]
        }
      ]
    },
    {
      "cell_type": "markdown",
      "source": [
        "Check an arsmtrong number"
      ],
      "metadata": {
        "id": "ixxQIgsIGxuO"
      }
    },
    {
      "cell_type": "code",
      "source": [
        "n=int(input(\"Enter any number: \"))\n",
        "a=list(map(int,str(n)))\n",
        "b=list(map(lambda x:x**3,a))\n",
        "if(sum(b)==n):\n",
        "   print(\"The number is an armstrong number. \")\n",
        "else:\n",
        "   print(\"The number isn't an arsmtrong number. \")"
      ],
      "metadata": {
        "colab": {
          "base_uri": "https://localhost:8080/"
        },
        "id": "bMHGAjmuvq3Q",
        "outputId": "b6741789-d3e7-45ad-88d3-49e21a566ec1"
      },
      "execution_count": null,
      "outputs": [
        {
          "output_type": "stream",
          "name": "stdout",
          "text": [
            "Enter any number: 55\n",
            "The number isn't an arsmtrong number. \n"
          ]
        }
      ]
    },
    {
      "cell_type": "markdown",
      "source": [
        "Write ReLU function"
      ],
      "metadata": {
        "id": "GVWC0UuGGlP1"
      }
    },
    {
      "cell_type": "code",
      "source": [
        "if  input > 0:\n",
        "  return input\n",
        "else:\n",
        "  return 0"
      ],
      "metadata": {
        "id": "zSsulfSZ6_pm"
      },
      "execution_count": null,
      "outputs": []
    },
    {
      "cell_type": "code",
      "source": [
        "\n",
        "\n",
        "def relu(x):\n",
        "    return max(0.0, x)"
      ],
      "metadata": {
        "id": "P88pQYDeC4KR"
      },
      "execution_count": 35,
      "outputs": []
    },
    {
      "cell_type": "code",
      "source": [
        "x = 1.0\n",
        "print('Applying Relu on (%.1f) gives %.1f' % (x, relu(x)))\n",
        "\n",
        "x = -10.0\n",
        "print('Applying Relu on (%.1f) gives %.1f' % (x, relu(x)))\n",
        "\n",
        "x = 0.0\n",
        "print('Applying Relu on (%.1f) gives %.1f' % (x, relu(x)))\n",
        "\n",
        "x = 15.0\n",
        "print('Applying Relu on (%.1f) gives %.1f' % (x, relu(x)))\n",
        "\n",
        "x = -20.0\n",
        "print('Applying Relu on (%.1f) gives %.1f' % (x, relu(x)))"
      ],
      "metadata": {
        "colab": {
          "base_uri": "https://localhost:8080/"
        },
        "id": "QzXEA3r3C9LY",
        "outputId": "90e92982-99ff-4377-99d9-20e428200623"
      },
      "execution_count": 36,
      "outputs": [
        {
          "output_type": "stream",
          "name": "stdout",
          "text": [
            "Applying Relu on (1.0) gives 1.0\n",
            "Applying Relu on (-10.0) gives 0.0\n",
            "Applying Relu on (0.0) gives 0.0\n",
            "Applying Relu on (15.0) gives 15.0\n",
            "Applying Relu on (-20.0) gives 0.0\n"
          ]
        }
      ]
    },
    {
      "cell_type": "markdown",
      "source": [
        "Checking Leap year program"
      ],
      "metadata": {
        "id": "N66frvGEHHEl"
      }
    },
    {
      "cell_type": "code",
      "source": [
        "def LeapChecker(year):\n",
        "  if((year % 400)==0 or\n",
        "    (year % 100)!=0 and\n",
        "    (year % 4) ==0):\n",
        "    print(\"Given year is Leap year\")\n",
        "  else:\n",
        "    print(\"Given year is not leap year\")\n",
        "year = int(input(\"enter the input: \"))\n",
        "LeapChecker(year)"
      ],
      "metadata": {
        "colab": {
          "base_uri": "https://localhost:8080/"
        },
        "id": "M97aQwnqD6bv",
        "outputId": "c7ee930a-9856-4247-bb2a-9eea55efada6"
      },
      "execution_count": 44,
      "outputs": [
        {
          "output_type": "stream",
          "name": "stdout",
          "text": [
            "enter the input: -599\n",
            "Given year is not leap year\n"
          ]
        }
      ]
    },
    {
      "cell_type": "markdown",
      "source": [
        "Enumerate function"
      ],
      "metadata": {
        "id": "IqlJFM52Sk_d"
      }
    },
    {
      "cell_type": "code",
      "source": [
        "raman = (\"Raman\", \"AShok\", \"Magar\")\n",
        "for i, raman in enumerate(raman):\n",
        "  print(i, raman)"
      ],
      "metadata": {
        "colab": {
          "base_uri": "https://localhost:8080/"
        },
        "id": "3Xf7ra3YL1q6",
        "outputId": "99d6ec79-2b2d-4b01-d852-5a1907c207a1"
      },
      "execution_count": 49,
      "outputs": [
        {
          "output_type": "stream",
          "name": "stdout",
          "text": [
            "0 Raman\n",
            "1 AShok\n",
            "2 Magar\n"
          ]
        }
      ]
    },
    {
      "cell_type": "markdown",
      "source": [
        "Convert list into string"
      ],
      "metadata": {
        "id": "sPgYgch_U5uA"
      }
    },
    {
      "cell_type": "code",
      "source": [
        "\n",
        "\n",
        "list1 = ['at-Bopala','Ekurga','tq.dist','Latur']\n",
        "convert = \" \".join(list1)\n",
        "print(convert)"
      ],
      "metadata": {
        "colab": {
          "base_uri": "https://localhost:8080/"
        },
        "id": "lMIMUfCWTeQp",
        "outputId": "7b922bef-77ec-4532-ce3c-7887e6f310f3"
      },
      "execution_count": 57,
      "outputs": [
        {
          "output_type": "stream",
          "name": "stdout",
          "text": [
            "at-Bopala Ekurga tq.dist Latur\n"
          ]
        }
      ]
    },
    {
      "cell_type": "code",
      "source": [
        ""
      ],
      "metadata": {
        "id": "7KhYvmqkTeMk"
      },
      "execution_count": null,
      "outputs": []
    },
    {
      "cell_type": "code",
      "source": [
        ""
      ],
      "metadata": {
        "id": "8Yea-lhSTeJf"
      },
      "execution_count": null,
      "outputs": []
    }
  ]
}