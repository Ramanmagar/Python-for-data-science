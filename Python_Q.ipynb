{
  "nbformat": 4,
  "nbformat_minor": 0,
  "metadata": {
    "colab": {
      "name": "Python Q.ipynb",
      "provenance": [],
      "collapsed_sections": [],
      "authorship_tag": "ABX9TyMqgw0qJK51oNtn8Uo+TeL1",
      "include_colab_link": true
    },
    "kernelspec": {
      "name": "python3",
      "display_name": "Python 3"
    },
    "language_info": {
      "name": "python"
    }
  },
  "cells": [
    {
      "cell_type": "markdown",
      "metadata": {
        "id": "view-in-github",
        "colab_type": "text"
      },
      "source": [
        "<a href=\"https://colab.research.google.com/github/Ramanmagar/Python-for-data-science/blob/main/Python_Q.ipynb\" target=\"_parent\"><img src=\"https://colab.research.google.com/assets/colab-badge.svg\" alt=\"Open In Colab\"/></a>"
      ]
    },
    {
      "cell_type": "code",
      "execution_count": null,
      "metadata": {
        "id": "kPg4gd32S_81"
      },
      "outputs": [],
      "source": [
        "import numpy as np\n",
        "import pandas as pd"
      ]
    },
    {
      "cell_type": "code",
      "source": [
        "np_array = np.ones((4,4))\n",
        "\n"
      ],
      "metadata": {
        "id": "1bWGcB5CTDtY"
      },
      "execution_count": null,
      "outputs": []
    },
    {
      "cell_type": "code",
      "source": [
        "np_array"
      ],
      "metadata": {
        "colab": {
          "base_uri": "https://localhost:8080/"
        },
        "id": "bvrauoF1TDw5",
        "outputId": "41e09d8d-f4db-4596-b1a5-650fa59c5d94"
      },
      "execution_count": null,
      "outputs": [
        {
          "output_type": "execute_result",
          "data": {
            "text/plain": [
              "array([[1., 1., 1., 1.],\n",
              "       [1., 1., 1., 1.],\n",
              "       [1., 1., 1., 1.],\n",
              "       [1., 1., 1., 1.]])"
            ]
          },
          "metadata": {},
          "execution_count": 3
        }
      ]
    },
    {
      "cell_type": "markdown",
      "source": [
        "odd evan number program "
      ],
      "metadata": {
        "id": "pjAfs1JFG_ws"
      }
    },
    {
      "cell_type": "code",
      "source": [
        "### odd evan number program \n",
        "\n",
        "num = int(input(\"Enter the no: \"))\n",
        "\n",
        "if (num % 2) == 0:\n",
        "  print(\"{0} is even\".format(num))\n",
        "else:\n",
        "  print(\"{0} is odd\".format(num))"
      ],
      "metadata": {
        "id": "o_mpwTzITDz_",
        "colab": {
          "base_uri": "https://localhost:8080/"
        },
        "outputId": "16fa6ace-d88f-424a-de6c-538a82d9e6c1"
      },
      "execution_count": null,
      "outputs": [
        {
          "output_type": "stream",
          "name": "stdout",
          "text": [
            "Enter the no: 15\n",
            "15 is odd\n"
          ]
        }
      ]
    },
    {
      "cell_type": "markdown",
      "source": [
        "Check the prime number"
      ],
      "metadata": {
        "id": "4Yja7NyyG6GG"
      }
    },
    {
      "cell_type": "code",
      "source": [
        "def PrimeChecker(num):\n",
        "  if num>1:\n",
        "    for j in range(2, num//2+1):\n",
        "      if num % j ==0:\n",
        "        print(\"is't prime number\")\n",
        "        break\n",
        "    else:\n",
        "      print(\"prime number\")\n",
        "  else:\n",
        "    print(\"is't prime\")\n",
        "\n",
        "num = int(input(\"Enter the number: \"))\n",
        "PrimeChecker(num)"
      ],
      "metadata": {
        "colab": {
          "base_uri": "https://localhost:8080/"
        },
        "id": "n_GawF7KZTVd",
        "outputId": "50945784-6ee5-42f7-e041-1cf86bf285af"
      },
      "execution_count": null,
      "outputs": [
        {
          "output_type": "stream",
          "name": "stdout",
          "text": [
            "Enter the number: 17\n",
            "prime number\n"
          ]
        }
      ]
    },
    {
      "cell_type": "code",
      "source": [
        ""
      ],
      "metadata": {
        "id": "Z-V5oI8aUYNP"
      },
      "execution_count": null,
      "outputs": []
    },
    {
      "cell_type": "code",
      "source": [
        ""
      ],
      "metadata": {
        "id": "gHp2XTgnUYG_"
      },
      "execution_count": null,
      "outputs": []
    },
    {
      "cell_type": "markdown",
      "source": [
        "Check an arsmtrong number\n",
        "\n",
        "In case of an Armstrong number of 3 digits, the sum of cubes of each digit is equal to the number itself. For example:\n",
        "\n",
        "ex- 153 = (1*1*1) + 5*5*5 + 3*3*3  // 153 is an Armstrong number."
      ],
      "metadata": {
        "id": "ixxQIgsIGxuO"
      }
    },
    {
      "cell_type": "code",
      "source": [
        "n=int(input(\"Enter any number: \"))\n",
        "a=list(map(int,str(n)))\n",
        "b=list(map(lambda x:x**3,a))\n",
        "if(sum(b)==n):\n",
        "   print(\"The number is an armstrong number. \")\n",
        "else:\n",
        "   print(\"The number isn't an arsmtrong number. \")"
      ],
      "metadata": {
        "colab": {
          "base_uri": "https://localhost:8080/"
        },
        "id": "bMHGAjmuvq3Q",
        "outputId": "3ed393a9-5dd9-4d43-8f9f-d9d6d877e3e4"
      },
      "execution_count": null,
      "outputs": [
        {
          "output_type": "stream",
          "name": "stdout",
          "text": [
            "Enter any number: 371\n",
            "The number is an armstrong number. \n"
          ]
        }
      ]
    },
    {
      "cell_type": "code",
      "source": [
        "num = int(input(\"enter the number: \"))\n",
        "a = list(map(int, str(num)))\n",
        "b= list(map(lambda x:x**3, a))\n",
        "if sum(b) ==num:\n",
        "  print('armstrong')\n",
        "else:\n",
        "  print(\"not\")"
      ],
      "metadata": {
        "colab": {
          "base_uri": "https://localhost:8080/"
        },
        "id": "wIAxnocLWAap",
        "outputId": "eac37e8e-3868-49ad-9d13-425480306628"
      },
      "execution_count": null,
      "outputs": [
        {
          "output_type": "stream",
          "name": "stdout",
          "text": [
            "enter the number: 153\n",
            "armstrong\n"
          ]
        }
      ]
    },
    {
      "cell_type": "code",
      "source": [
        ""
      ],
      "metadata": {
        "id": "cRTlqokiWAW4"
      },
      "execution_count": null,
      "outputs": []
    },
    {
      "cell_type": "code",
      "source": [
        ""
      ],
      "metadata": {
        "id": "lPTUUxxMV_6a"
      },
      "execution_count": null,
      "outputs": []
    },
    {
      "cell_type": "markdown",
      "source": [
        "Write ReLU function"
      ],
      "metadata": {
        "id": "GVWC0UuGGlP1"
      }
    },
    {
      "cell_type": "code",
      "source": [
        "if  input > 0:\n",
        "  return input\n",
        "else:\n",
        "  return 0"
      ],
      "metadata": {
        "id": "zSsulfSZ6_pm"
      },
      "execution_count": null,
      "outputs": []
    },
    {
      "cell_type": "code",
      "source": [
        "\n",
        "\n",
        "def relu(x):\n",
        "    return max(0.0, x)"
      ],
      "metadata": {
        "id": "P88pQYDeC4KR"
      },
      "execution_count": null,
      "outputs": []
    },
    {
      "cell_type": "code",
      "source": [
        "x = 1.0\n",
        "print('Applying Relu on (%.1f) gives %.1f' % (x, relu(x)))\n",
        "\n",
        "x = -10.0\n",
        "print('Applying Relu on (%.1f) gives %.1f' % (x, relu(x)))\n",
        "\n",
        "x = 0.0\n",
        "print('Applying Relu on (%.1f) gives %.1f' % (x, relu(x)))\n",
        "\n",
        "x = 15.0\n",
        "print('Applying Relu on (%.1f) gives %.1f' % (x, relu(x)))\n",
        "\n",
        "x = -20.0\n",
        "print('Applying Relu on (%.1f) gives %.1f' % (x, relu(x)))"
      ],
      "metadata": {
        "colab": {
          "base_uri": "https://localhost:8080/"
        },
        "id": "QzXEA3r3C9LY",
        "outputId": "90e92982-99ff-4377-99d9-20e428200623"
      },
      "execution_count": null,
      "outputs": [
        {
          "output_type": "stream",
          "name": "stdout",
          "text": [
            "Applying Relu on (1.0) gives 1.0\n",
            "Applying Relu on (-10.0) gives 0.0\n",
            "Applying Relu on (0.0) gives 0.0\n",
            "Applying Relu on (15.0) gives 15.0\n",
            "Applying Relu on (-20.0) gives 0.0\n"
          ]
        }
      ]
    },
    {
      "cell_type": "markdown",
      "source": [
        "Checking Leap year program"
      ],
      "metadata": {
        "id": "N66frvGEHHEl"
      }
    },
    {
      "cell_type": "code",
      "source": [
        "def LeapChecker(year):\n",
        "  if((year % 400)==0 or\n",
        "    (year % 100)!=0 and\n",
        "    (year % 4) ==0):\n",
        "    print(\"Given year is Leap year\")\n",
        "  else:\n",
        "    print(\"Given year is not leap year\")\n",
        "year = int(input(\"enter the input: \"))\n",
        "LeapChecker(year)"
      ],
      "metadata": {
        "colab": {
          "base_uri": "https://localhost:8080/"
        },
        "id": "M97aQwnqD6bv",
        "outputId": "c7ee930a-9856-4247-bb2a-9eea55efada6"
      },
      "execution_count": null,
      "outputs": [
        {
          "output_type": "stream",
          "name": "stdout",
          "text": [
            "enter the input: -599\n",
            "Given year is not leap year\n"
          ]
        }
      ]
    },
    {
      "cell_type": "markdown",
      "source": [
        "Enumerate function"
      ],
      "metadata": {
        "id": "IqlJFM52Sk_d"
      }
    },
    {
      "cell_type": "code",
      "source": [
        "raman = (\"Raman\", \"AShok\", \"Magar\")\n",
        "for i, raman in enumerate(raman):\n",
        "  print(i, raman)"
      ],
      "metadata": {
        "colab": {
          "base_uri": "https://localhost:8080/"
        },
        "id": "3Xf7ra3YL1q6",
        "outputId": "99d6ec79-2b2d-4b01-d852-5a1907c207a1"
      },
      "execution_count": null,
      "outputs": [
        {
          "output_type": "stream",
          "name": "stdout",
          "text": [
            "0 Raman\n",
            "1 AShok\n",
            "2 Magar\n"
          ]
        }
      ]
    },
    {
      "cell_type": "markdown",
      "source": [
        "Convert list into string"
      ],
      "metadata": {
        "id": "sPgYgch_U5uA"
      }
    },
    {
      "cell_type": "code",
      "source": [
        "\n",
        "\n",
        "list1 = ['at-Bopala', 'Ekurga', 'tq.dist', 'Latur']\n",
        "convert = \" \".join(list1)\n",
        "print(convert)"
      ],
      "metadata": {
        "colab": {
          "base_uri": "https://localhost:8080/"
        },
        "id": "lMIMUfCWTeQp",
        "outputId": "7b922bef-77ec-4532-ce3c-7887e6f310f3"
      },
      "execution_count": null,
      "outputs": [
        {
          "output_type": "stream",
          "name": "stdout",
          "text": [
            "at-Bopala Ekurga tq.dist Latur\n"
          ]
        }
      ]
    },
    {
      "cell_type": "markdown",
      "source": [
        "Anagram program"
      ],
      "metadata": {
        "id": "ziAZ323t92If"
      }
    },
    {
      "cell_type": "code",
      "source": [
        "##using sorted function\n",
        "### using counter function\n",
        "\n",
        "\n",
        "def check(s1, s2):\n",
        "  \n",
        "  if(sorted(s1)==sorted(s2)):\n",
        "    print(\"The strings are anagram\")\n",
        "  else:\n",
        "    print(\"The strings are not anagram\")\n",
        "\n",
        "s1 = 'listen'\n",
        "s2 = 'silent'\n",
        "check(s1, s2)"
      ],
      "metadata": {
        "colab": {
          "base_uri": "https://localhost:8080/"
        },
        "id": "8Yea-lhSTeJf",
        "outputId": "3e1266a5-046d-497c-e7ba-80ca18e7cc5d"
      },
      "execution_count": null,
      "outputs": [
        {
          "output_type": "stream",
          "name": "stdout",
          "text": [
            "The strings are not anagram\n"
          ]
        }
      ]
    },
    {
      "cell_type": "code",
      "source": [
        "def check(s1,s2):\n",
        "  # s1 = \"silent\"\n",
        "  # s2 = 'listen'\n",
        "  if(sorted(s1)==sorted(s2)):\n",
        "    print(\"anagram\")\n",
        "  else:\n",
        "    print(\"not\")\n",
        "\n",
        "s1 = \"silent\"\n",
        "s2 = 'listen'\n",
        "check(s1,s2)"
      ],
      "metadata": {
        "colab": {
          "base_uri": "https://localhost:8080/"
        },
        "id": "W4M5h4I7wKjq",
        "outputId": "dce44d66-3b10-4b22-99da-c8e70b5ff7df"
      },
      "execution_count": null,
      "outputs": [
        {
          "output_type": "stream",
          "name": "stdout",
          "text": [
            "anagram\n"
          ]
        }
      ]
    },
    {
      "cell_type": "code",
      "source": [
        "### using counter function\n",
        "\n",
        "from collections import Counter\n",
        "def check(s1, s2):\n",
        "  if(Counter(s1) == Counter(s2)):\n",
        "    print(\"This is anagram\")\n",
        "  else:\n",
        "    print(\"not anagram\")\n",
        "s1 = \"listen\"\n",
        "s2 = \"silent\"\n",
        "check(s1, s2)"
      ],
      "metadata": {
        "colab": {
          "base_uri": "https://localhost:8080/"
        },
        "id": "n-DAqa8eHQR-",
        "outputId": "2ba3705b-225d-4a9c-8d16-74c3572d5454"
      },
      "execution_count": null,
      "outputs": [
        {
          "output_type": "stream",
          "name": "stdout",
          "text": [
            "This is anagram\n"
          ]
        }
      ]
    },
    {
      "cell_type": "markdown",
      "source": [
        "*Palindrom Program*\n",
        "\n",
        "write a python function to check if it is palindrome or not. A string is said to be palindrome if the reverse of the string is the same as string. For example, “radar” is a palindrome, but “radix” is not a palindrome.\n",
        "\n"
      ],
      "metadata": {
        "id": "lGzXk7e8Jz4Q"
      }
    },
    {
      "cell_type": "code",
      "source": [
        "def isPalindrome(s):\n",
        "\n",
        "   return s == s[::-1]\n",
        "\n",
        "\n",
        "s = \"radar\"\n",
        "ans = isPalindrome(s)\n",
        "\n",
        "if ans:\n",
        "  print(\"yes\")\n",
        "else:\n",
        "  print(\"not\")"
      ],
      "metadata": {
        "colab": {
          "base_uri": "https://localhost:8080/"
        },
        "id": "7zuMOtxmIjWi",
        "outputId": "b90499ce-071c-476b-dd6a-9a8664f98062"
      },
      "execution_count": null,
      "outputs": [
        {
          "output_type": "stream",
          "name": "stdout",
          "text": [
            "yes\n"
          ]
        }
      ]
    },
    {
      "cell_type": "code",
      "source": [
        "\n",
        "# function which return reverse of a string\n",
        " \n",
        "def isPalindrome(s):\n",
        "    return s == s[::-1]\n",
        " \n",
        " \n",
        "# Driver code\n",
        "s = \"malayalam\"\n",
        "ans = isPalindrome(s)\n",
        " \n",
        "if ans:\n",
        "    print(\"Yes\")\n",
        "else:\n",
        "    print(\"No\")"
      ],
      "metadata": {
        "colab": {
          "base_uri": "https://localhost:8080/"
        },
        "id": "3AaIkXQYL8oC",
        "outputId": "88ca4595-5b38-427d-8564-b3c56f45b2f8"
      },
      "execution_count": null,
      "outputs": [
        {
          "output_type": "stream",
          "name": "stdout",
          "text": [
            "Yes\n"
          ]
        }
      ]
    },
    {
      "cell_type": "markdown",
      "source": [
        "Find minimum and maximum element in an array"
      ],
      "metadata": {
        "id": "MBWOw_Lk5g1u"
      }
    },
    {
      "cell_type": "code",
      "source": [
        "def getMinMax(a, n):\n",
        "  min = float('inf')\n",
        "  max = -float('inf')\n",
        "  for i in a:\n",
        "    if i <min:\n",
        "      min = i\n",
        "    if i>max:\n",
        "      max = i\n",
        "  return min, max\n",
        "a = [-0,-15,22,545,-25]\n",
        "n = len(a)\n",
        "getMinMax(a,n) "
      ],
      "metadata": {
        "colab": {
          "base_uri": "https://localhost:8080/"
        },
        "id": "Szuyuvtd2PeR",
        "outputId": "d3b69b16-406c-43ca-b6f2-ed090b1b68b4"
      },
      "execution_count": null,
      "outputs": [
        {
          "output_type": "execute_result",
          "data": {
            "text/plain": [
              "(-25, 545)"
            ]
          },
          "metadata": {},
          "execution_count": 14
        }
      ]
    },
    {
      "cell_type": "code",
      "source": [
        "def getMinMax(a, n):\n",
        "  min = float('inf')\n",
        "  max = -float('inf')\n",
        "  for i in a:\n",
        "    if i<min:\n",
        "      min = i\n",
        "    if i>max:\n",
        "      max = i\n",
        "  return max, min\n",
        "\n",
        "a = [-20,30,0,55]\n",
        "n= len(a)\n",
        "getMinMax(a, n)\n"
      ],
      "metadata": {
        "colab": {
          "base_uri": "https://localhost:8080/"
        },
        "id": "CAgdv1I1yiWK",
        "outputId": "fb532b2d-0f75-45cd-9292-173fe042f9e0"
      },
      "execution_count": null,
      "outputs": [
        {
          "output_type": "execute_result",
          "data": {
            "text/plain": [
              "(55, -20)"
            ]
          },
          "metadata": {},
          "execution_count": 16
        }
      ]
    },
    {
      "cell_type": "code",
      "source": [
        ""
      ],
      "metadata": {
        "id": "mCcfH9JUyiJ1"
      },
      "execution_count": null,
      "outputs": []
    },
    {
      "cell_type": "markdown",
      "source": [
        "Given an array A of size N, print the reverse of it."
      ],
      "metadata": {
        "id": "MFHY3pS89RcJ"
      }
    },
    {
      "cell_type": "code",
      "source": [
        "\n",
        "#1  [::-1]\n",
        "array_1 = [2,3,3,4,5,6]\n",
        "rev_array = array_1[::-1]\n",
        "print(rev_array)\n",
        "\n",
        "#2 .reverse()\n",
        "array_2 = [2,3,4,5,6]\n",
        "array_2.reverse()\n",
        "print(array_2)"
      ],
      "metadata": {
        "colab": {
          "base_uri": "https://localhost:8080/"
        },
        "id": "R5RYpU4F6n45",
        "outputId": "836e843b-8c19-48ad-c771-d6dc9361d8ab"
      },
      "execution_count": null,
      "outputs": [
        {
          "output_type": "stream",
          "name": "stdout",
          "text": [
            "[6, 5, 4, 3, 3, 2]\n",
            "[6, 5, 4, 3, 2]\n"
          ]
        }
      ]
    },
    {
      "cell_type": "code",
      "source": [
        "list= [2,3,5,2,2,4,5,67,8,9,6]\n",
        "list.sort()\n",
        "print(list)"
      ],
      "metadata": {
        "colab": {
          "base_uri": "https://localhost:8080/"
        },
        "id": "7k8vsSfV-P7n",
        "outputId": "4c78ce6a-9d79-4881-af1c-771fb7ca0e9d"
      },
      "execution_count": null,
      "outputs": [
        {
          "output_type": "stream",
          "name": "stdout",
          "text": [
            "[2, 2, 2, 3, 4, 5, 5, 6, 8, 9, 67]\n"
          ]
        }
      ]
    },
    {
      "cell_type": "code",
      "source": [
        "from array import *\n",
        "array_num = array('i', [1,3,5,7,9])\n",
        "for i in array_num:\n",
        "    print(i)\n",
        "print(\"Access first three items individually\")\n",
        "print(array_num[0])\n",
        "print(array_num[1])\n",
        "print(array_num[2])"
      ],
      "metadata": {
        "id": "EQN6wIvF-7i4",
        "colab": {
          "base_uri": "https://localhost:8080/"
        },
        "outputId": "da38fe23-78f8-4029-a2cc-876859774107"
      },
      "execution_count": null,
      "outputs": [
        {
          "output_type": "stream",
          "name": "stdout",
          "text": [
            "1\n",
            "3\n",
            "5\n",
            "7\n",
            "9\n",
            "Access first three items individually\n",
            "1\n",
            "3\n",
            "5\n"
          ]
        }
      ]
    },
    {
      "cell_type": "code",
      "source": [
        "from array import *\n",
        "array_num  = array('i', [1, 3, 5, 9, 11])\n",
        "for i in array_num:\n",
        "  print(i)\n",
        "#print(array_num[2])"
      ],
      "metadata": {
        "colab": {
          "base_uri": "https://localhost:8080/"
        },
        "id": "pO_XO9mD_qOX",
        "outputId": "559facab-927f-40f6-9159-263ed2d9b39f"
      },
      "execution_count": null,
      "outputs": [
        {
          "output_type": "stream",
          "name": "stdout",
          "text": [
            "1\n",
            "3\n",
            "5\n",
            "9\n",
            "11\n"
          ]
        }
      ]
    },
    {
      "cell_type": "code",
      "source": [
        "from array import *\n",
        "array_create = array('i', [2, 4, 6, 8])\n",
        "for i in array_create:\n",
        "  print(i)"
      ],
      "metadata": {
        "colab": {
          "base_uri": "https://localhost:8080/"
        },
        "id": "m3rvTLXHByEs",
        "outputId": "250e5fea-a570-4386-c7df-07e1e934c0b6"
      },
      "execution_count": null,
      "outputs": [
        {
          "output_type": "stream",
          "name": "stdout",
          "text": [
            "2\n",
            "4\n",
            "6\n",
            "8\n"
          ]
        }
      ]
    },
    {
      "cell_type": "code",
      "source": [
        "print(i)"
      ],
      "metadata": {
        "colab": {
          "base_uri": "https://localhost:8080/"
        },
        "id": "1ouYMX0RDky5",
        "outputId": "f88e3f55-f686-4098-fd49-976f3048c09f"
      },
      "execution_count": null,
      "outputs": [
        {
          "output_type": "stream",
          "name": "stdout",
          "text": [
            "11\n"
          ]
        }
      ]
    },
    {
      "cell_type": "code",
      "source": [
        "import numpy as np\n",
        "def cos_sim(a, b):\n",
        "#  \"\"\"Takes 2 vectors a, b and returns the cosine similarity according\n",
        "#  to the definition of the dot product\n",
        "#  \"\"\"\n",
        " dot_product = np.dot(a, b)\n",
        " norm_a = np.linalg.norm(a)\n",
        " norm_b = np.linalg.norm(b)\n",
        " return dot_product / (norm_a * norm_b)\n",
        " \n",
        "# the counts we computed above\n",
        "sentence_m = np.array([1, 1, 1, 1, 0, 0, 0, 0, 0])\n",
        "sentence_h = np.array([0, 0, 1, 1, 1, 1, 0, 0, 0])\n",
        "sentence_w = np.array([0, 0, 0, 1, 0, 0, 1, 1, 1])\n",
        "# We should expect sentence_m and sentence_h to be more similar\n",
        "print(cos_sim(sentence_m, sentence_h)) # 0.5\n",
        "print(cos_sim(sentence_m, sentence_w)) # 0.25\n"
      ],
      "metadata": {
        "id": "5XySHGoLDymS",
        "colab": {
          "base_uri": "https://localhost:8080/"
        },
        "outputId": "6d95855d-c2a4-4402-b3bc-f43fe42e2fc9"
      },
      "execution_count": 2,
      "outputs": [
        {
          "output_type": "stream",
          "name": "stdout",
          "text": [
            "0.5\n",
            "0.25\n"
          ]
        }
      ]
    },
    {
      "cell_type": "markdown",
      "source": [
        "Write a program that prints the numbers ranging from one to 50. But for multiples of three, print \"Fizz\" instead of the\n",
        "number, and for the multiples of five, print \"Buzz.\" For\n",
        "numbers which are multiples of both three and five,\n",
        "print \"FizzBuzz\""
      ],
      "metadata": {
        "id": "fn5QxkJ0F9cn"
      }
    },
    {
      "cell_type": "code",
      "source": [
        "for num in range(51):\n"
      ],
      "metadata": {
        "id": "SnPJPMCBGH6F"
      },
      "execution_count": null,
      "outputs": []
    },
    {
      "cell_type": "code",
      "source": [
        ""
      ],
      "metadata": {
        "id": "AxAtjl4UGT3c"
      },
      "execution_count": null,
      "outputs": []
    },
    {
      "cell_type": "code",
      "source": [
        ""
      ],
      "metadata": {
        "id": "560TLx2SGT0B"
      },
      "execution_count": null,
      "outputs": []
    },
    {
      "cell_type": "code",
      "source": [
        ""
      ],
      "metadata": {
        "id": "-OD0DV5aGTwl"
      },
      "execution_count": null,
      "outputs": []
    },
    {
      "cell_type": "code",
      "source": [
        ""
      ],
      "metadata": {
        "id": "WPn_0w_9GTt1"
      },
      "execution_count": null,
      "outputs": []
    }
  ]
}