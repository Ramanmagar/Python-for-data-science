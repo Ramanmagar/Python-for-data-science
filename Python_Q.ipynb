{
  "nbformat": 4,
  "nbformat_minor": 0,
  "metadata": {
    "colab": {
      "name": "Python Q.ipynb",
      "provenance": [],
      "collapsed_sections": [],
      "authorship_tag": "ABX9TyNnLzMjQngRGOpXrfTseViq",
      "include_colab_link": true
    },
    "kernelspec": {
      "name": "python3",
      "display_name": "Python 3"
    },
    "language_info": {
      "name": "python"
    }
  },
  "cells": [
    {
      "cell_type": "markdown",
      "metadata": {
        "id": "view-in-github",
        "colab_type": "text"
      },
      "source": [
        "<a href=\"https://colab.research.google.com/github/Ramanmagar/Python-for-data-science/blob/main/Python_Q.ipynb\" target=\"_parent\"><img src=\"https://colab.research.google.com/assets/colab-badge.svg\" alt=\"Open In Colab\"/></a>"
      ]
    },
    {
      "cell_type": "code",
      "execution_count": 4,
      "metadata": {
        "id": "kPg4gd32S_81"
      },
      "outputs": [],
      "source": [
        "import numpy as np\n",
        "import pandas as pd"
      ]
    },
    {
      "cell_type": "code",
      "source": [
        "np_array = np.ones((4,4))\n",
        "\n"
      ],
      "metadata": {
        "id": "1bWGcB5CTDtY"
      },
      "execution_count": null,
      "outputs": []
    },
    {
      "cell_type": "code",
      "source": [
        "np_array"
      ],
      "metadata": {
        "colab": {
          "base_uri": "https://localhost:8080/"
        },
        "id": "bvrauoF1TDw5",
        "outputId": "41e09d8d-f4db-4596-b1a5-650fa59c5d94"
      },
      "execution_count": null,
      "outputs": [
        {
          "output_type": "execute_result",
          "data": {
            "text/plain": [
              "array([[1., 1., 1., 1.],\n",
              "       [1., 1., 1., 1.],\n",
              "       [1., 1., 1., 1.],\n",
              "       [1., 1., 1., 1.]])"
            ]
          },
          "metadata": {},
          "execution_count": 3
        }
      ]
    },
    {
      "cell_type": "markdown",
      "source": [
        "odd evan number program "
      ],
      "metadata": {
        "id": "pjAfs1JFG_ws"
      }
    },
    {
      "cell_type": "code",
      "source": [
        "### odd evan number program \n",
        "\n",
        "num = int(input(\"Enter the number: \"))\n",
        "\n",
        "if (num % 2) == 0:\n",
        "  print(\"{0} is even\".format(num))\n",
        "else:\n",
        "  print(\"{0} is odd\".format(num))"
      ],
      "metadata": {
        "id": "o_mpwTzITDz_",
        "colab": {
          "base_uri": "https://localhost:8080/"
        },
        "outputId": "8db99893-5e96-40e4-e511-e72afebbd145"
      },
      "execution_count": null,
      "outputs": [
        {
          "output_type": "stream",
          "name": "stdout",
          "text": [
            "Enter the number: 5\n",
            "5 is odd\n"
          ]
        }
      ]
    },
    {
      "cell_type": "markdown",
      "source": [
        "Check the prime number"
      ],
      "metadata": {
        "id": "4Yja7NyyG6GG"
      }
    },
    {
      "cell_type": "code",
      "source": [
        "def PrimeChecker(num):\n",
        "  if num>1:\n",
        "    for j in range(2, num//2+1):\n",
        "      if num % j ==0:\n",
        "        print(\"is't prime number\")\n",
        "        break\n",
        "    else:\n",
        "      print(\"prime number\")\n",
        "  else:\n",
        "    print(\"is't prime\")\n",
        "\n",
        "num = int(input(\"Enter the number: \"))\n",
        "PrimeChecker(num)"
      ],
      "metadata": {
        "colab": {
          "base_uri": "https://localhost:8080/"
        },
        "id": "n_GawF7KZTVd",
        "outputId": "354574bb-12b6-4e5c-deec-011171c4b102"
      },
      "execution_count": null,
      "outputs": [
        {
          "output_type": "stream",
          "name": "stdout",
          "text": [
            "Enter the number: 15\n",
            "is't prime number\n"
          ]
        }
      ]
    },
    {
      "cell_type": "markdown",
      "source": [
        "Check an arsmtrong number\n",
        "\n",
        "In case of an Armstrong number of 3 digits, the sum of cubes of each digit is equal to the number itself. For example:\n",
        "\n",
        "ex- 153 = (1*1*1) + 5*5*5 + 3*3*3  // 153 is an Armstrong number."
      ],
      "metadata": {
        "id": "ixxQIgsIGxuO"
      }
    },
    {
      "cell_type": "code",
      "source": [
        "n=int(input(\"Enter any number: \"))\n",
        "a=list(map(int,str(n)))\n",
        "b=list(map(lambda x:x**3,a))\n",
        "if(sum(b)==n):\n",
        "   print(\"The number is an armstrong number. \")\n",
        "else:\n",
        "   print(\"The number isn't an arsmtrong number. \")"
      ],
      "metadata": {
        "colab": {
          "base_uri": "https://localhost:8080/"
        },
        "id": "bMHGAjmuvq3Q",
        "outputId": "163af437-5c9e-4f44-d12d-e11ff1bb8b82"
      },
      "execution_count": 58,
      "outputs": [
        {
          "output_type": "stream",
          "name": "stdout",
          "text": [
            "Enter any number: 153\n",
            "The number is an armstrong number. \n"
          ]
        }
      ]
    },
    {
      "cell_type": "markdown",
      "source": [
        "Write ReLU function"
      ],
      "metadata": {
        "id": "GVWC0UuGGlP1"
      }
    },
    {
      "cell_type": "code",
      "source": [
        "if  input > 0:\n",
        "  return input\n",
        "else:\n",
        "  return 0"
      ],
      "metadata": {
        "id": "zSsulfSZ6_pm"
      },
      "execution_count": null,
      "outputs": []
    },
    {
      "cell_type": "code",
      "source": [
        "\n",
        "\n",
        "def relu(x):\n",
        "    return max(0.0, x)"
      ],
      "metadata": {
        "id": "P88pQYDeC4KR"
      },
      "execution_count": 35,
      "outputs": []
    },
    {
      "cell_type": "code",
      "source": [
        "x = 1.0\n",
        "print('Applying Relu on (%.1f) gives %.1f' % (x, relu(x)))\n",
        "\n",
        "x = -10.0\n",
        "print('Applying Relu on (%.1f) gives %.1f' % (x, relu(x)))\n",
        "\n",
        "x = 0.0\n",
        "print('Applying Relu on (%.1f) gives %.1f' % (x, relu(x)))\n",
        "\n",
        "x = 15.0\n",
        "print('Applying Relu on (%.1f) gives %.1f' % (x, relu(x)))\n",
        "\n",
        "x = -20.0\n",
        "print('Applying Relu on (%.1f) gives %.1f' % (x, relu(x)))"
      ],
      "metadata": {
        "colab": {
          "base_uri": "https://localhost:8080/"
        },
        "id": "QzXEA3r3C9LY",
        "outputId": "90e92982-99ff-4377-99d9-20e428200623"
      },
      "execution_count": 36,
      "outputs": [
        {
          "output_type": "stream",
          "name": "stdout",
          "text": [
            "Applying Relu on (1.0) gives 1.0\n",
            "Applying Relu on (-10.0) gives 0.0\n",
            "Applying Relu on (0.0) gives 0.0\n",
            "Applying Relu on (15.0) gives 15.0\n",
            "Applying Relu on (-20.0) gives 0.0\n"
          ]
        }
      ]
    },
    {
      "cell_type": "markdown",
      "source": [
        "Checking Leap year program"
      ],
      "metadata": {
        "id": "N66frvGEHHEl"
      }
    },
    {
      "cell_type": "code",
      "source": [
        "def LeapChecker(year):\n",
        "  if((year % 400)==0 or\n",
        "    (year % 100)!=0 and\n",
        "    (year % 4) ==0):\n",
        "    print(\"Given year is Leap year\")\n",
        "  else:\n",
        "    print(\"Given year is not leap year\")\n",
        "year = int(input(\"enter the input: \"))\n",
        "LeapChecker(year)"
      ],
      "metadata": {
        "colab": {
          "base_uri": "https://localhost:8080/"
        },
        "id": "M97aQwnqD6bv",
        "outputId": "c7ee930a-9856-4247-bb2a-9eea55efada6"
      },
      "execution_count": 44,
      "outputs": [
        {
          "output_type": "stream",
          "name": "stdout",
          "text": [
            "enter the input: -599\n",
            "Given year is not leap year\n"
          ]
        }
      ]
    },
    {
      "cell_type": "markdown",
      "source": [
        "Enumerate function"
      ],
      "metadata": {
        "id": "IqlJFM52Sk_d"
      }
    },
    {
      "cell_type": "code",
      "source": [
        "raman = (\"Raman\", \"AShok\", \"Magar\")\n",
        "for i, raman in enumerate(raman):\n",
        "  print(i, raman)"
      ],
      "metadata": {
        "colab": {
          "base_uri": "https://localhost:8080/"
        },
        "id": "3Xf7ra3YL1q6",
        "outputId": "99d6ec79-2b2d-4b01-d852-5a1907c207a1"
      },
      "execution_count": 49,
      "outputs": [
        {
          "output_type": "stream",
          "name": "stdout",
          "text": [
            "0 Raman\n",
            "1 AShok\n",
            "2 Magar\n"
          ]
        }
      ]
    },
    {
      "cell_type": "markdown",
      "source": [
        "Convert list into string"
      ],
      "metadata": {
        "id": "sPgYgch_U5uA"
      }
    },
    {
      "cell_type": "code",
      "source": [
        "\n",
        "\n",
        "list1 = ['at-Bopala','Ekurga','tq.dist','Latur']\n",
        "convert = \" \".join(list1)\n",
        "print(convert)"
      ],
      "metadata": {
        "colab": {
          "base_uri": "https://localhost:8080/"
        },
        "id": "lMIMUfCWTeQp",
        "outputId": "7b922bef-77ec-4532-ce3c-7887e6f310f3"
      },
      "execution_count": 57,
      "outputs": [
        {
          "output_type": "stream",
          "name": "stdout",
          "text": [
            "at-Bopala Ekurga tq.dist Latur\n"
          ]
        }
      ]
    },
    {
      "cell_type": "markdown",
      "source": [
        "Anagram program"
      ],
      "metadata": {
        "id": "ziAZ323t92If"
      }
    },
    {
      "cell_type": "code",
      "source": [
        "## using sorted function\n",
        "### using counter function\n",
        "\n",
        "\n",
        "def check(s1, s2):\n",
        "  \n",
        "  if(sorted(s1)==sorted(s2)):\n",
        "    print(\"The strings are anagram\")\n",
        "  else:\n",
        "    print(\"The strings are not anagram\")\n",
        "\n",
        "s1 = 'listen'\n",
        "s2 = 'silent'\n",
        "check(s1, s2)"
      ],
      "metadata": {
        "colab": {
          "base_uri": "https://localhost:8080/"
        },
        "id": "8Yea-lhSTeJf",
        "outputId": "3e1266a5-046d-497c-e7ba-80ca18e7cc5d"
      },
      "execution_count": 5,
      "outputs": [
        {
          "output_type": "stream",
          "name": "stdout",
          "text": [
            "The strings are not anagram\n"
          ]
        }
      ]
    },
    {
      "cell_type": "code",
      "source": [
        "### using counter function\n",
        "\n",
        "from collections import Counter\n",
        "def check(s1, s2):\n",
        "  if(Counter(s1) == Counter(s2)):\n",
        "    print(\"This is anagram\")\n",
        "  else:\n",
        "    print(\"not anagram\")\n",
        "s1 = \"listen\"\n",
        "s2 = \"silent\"\n",
        "check(s1, s2)"
      ],
      "metadata": {
        "colab": {
          "base_uri": "https://localhost:8080/"
        },
        "id": "n-DAqa8eHQR-",
        "outputId": "2ba3705b-225d-4a9c-8d16-74c3572d5454"
      },
      "execution_count": 12,
      "outputs": [
        {
          "output_type": "stream",
          "name": "stdout",
          "text": [
            "This is anagram\n"
          ]
        }
      ]
    },
    {
      "cell_type": "markdown",
      "source": [
        "*Palindrom Program*\n",
        "\n",
        "write a python function to check if it is palindrome or not. A string is said to be palindrome if the reverse of the string is the same as string. For example, “radar” is a palindrome, but “radix” is not a palindrome.\n",
        "\n"
      ],
      "metadata": {
        "id": "lGzXk7e8Jz4Q"
      }
    },
    {
      "cell_type": "code",
      "source": [
        "def isPalindrome(s):\n",
        "\n",
        "   return s == s[::-1]\n",
        "\n",
        "\n",
        "s = \"radar\"\n",
        "ans = isPalindrome(s)\n",
        "\n",
        "if ans:\n",
        "  print(\"yes\")\n",
        "else:\n",
        "  print(\"not\")"
      ],
      "metadata": {
        "colab": {
          "base_uri": "https://localhost:8080/"
        },
        "id": "7zuMOtxmIjWi",
        "outputId": "b90499ce-071c-476b-dd6a-9a8664f98062"
      },
      "execution_count": 18,
      "outputs": [
        {
          "output_type": "stream",
          "name": "stdout",
          "text": [
            "yes\n"
          ]
        }
      ]
    },
    {
      "cell_type": "code",
      "source": [
        "\n",
        "# function which return reverse of a string\n",
        " \n",
        "def isPalindrome(s):\n",
        "    return s == s[::-1]\n",
        " \n",
        " \n",
        "# Driver code\n",
        "s = \"malayalam\"\n",
        "ans = isPalindrome(s)\n",
        " \n",
        "if ans:\n",
        "    print(\"Yes\")\n",
        "else:\n",
        "    print(\"No\")"
      ],
      "metadata": {
        "colab": {
          "base_uri": "https://localhost:8080/"
        },
        "id": "3AaIkXQYL8oC",
        "outputId": "88ca4595-5b38-427d-8564-b3c56f45b2f8"
      },
      "execution_count": 15,
      "outputs": [
        {
          "output_type": "stream",
          "name": "stdout",
          "text": [
            "Yes\n"
          ]
        }
      ]
    },
    {
      "cell_type": "code",
      "source": [
        "def IsPalindrome(s):\n",
        "  return s == s[::-1]\n",
        "\n",
        "s= \"ramanama\"\n",
        "ans = IsPalindrome(s)\n",
        "if ans:\n",
        "  print(\"yes\")\n",
        "else:\n",
        "  print(\"no\")"
      ],
      "metadata": {
        "colab": {
          "base_uri": "https://localhost:8080/"
        },
        "id": "clpgPyaeMXmW",
        "outputId": "b72de50e-573f-48e9-c08b-2af415fd1674"
      },
      "execution_count": 20,
      "outputs": [
        {
          "output_type": "stream",
          "name": "stdout",
          "text": [
            "no\n"
          ]
        }
      ]
    },
    {
      "cell_type": "markdown",
      "source": [
        "Find minimum and maximum element in an array"
      ],
      "metadata": {
        "id": "MBWOw_Lk5g1u"
      }
    },
    {
      "cell_type": "code",
      "source": [
        "def getMinMax(a, n):\n",
        "  min = float('inf')\n",
        "  max = -float('inf')\n",
        "  for i in a:\n",
        "    if i <min:\n",
        "      min = i\n",
        "    if i>max:\n",
        "      max = i\n",
        "  return min, max\n",
        "a = [-15,22,545,-25]\n",
        "getMinMax(a,n) "
      ],
      "metadata": {
        "colab": {
          "base_uri": "https://localhost:8080/"
        },
        "id": "Szuyuvtd2PeR",
        "outputId": "7db45fbc-9a92-4b74-aea6-1d2a89992a37"
      },
      "execution_count": 32,
      "outputs": [
        {
          "output_type": "execute_result",
          "data": {
            "text/plain": [
              "(-25, 545)"
            ]
          },
          "metadata": {},
          "execution_count": 32
        }
      ]
    },
    {
      "cell_type": "code",
      "source": [
        "a = [1, 2, 3]\n",
        "print(a[-3])"
      ],
      "metadata": {
        "colab": {
          "base_uri": "https://localhost:8080/"
        },
        "id": "G6ulr7yt4Ffi",
        "outputId": "4213e6e5-729d-40b7-c1b1-96043b67a6a6"
      },
      "execution_count": 35,
      "outputs": [
        {
          "output_type": "stream",
          "name": "stdout",
          "text": [
            "1\n"
          ]
        }
      ]
    },
    {
      "cell_type": "markdown",
      "source": [
        "Given an array A of size N, print the reverse of it."
      ],
      "metadata": {
        "id": "MFHY3pS89RcJ"
      }
    },
    {
      "cell_type": "code",
      "source": [
        "\n",
        "#1  [::-1]\n",
        "array_1 = [2,3,3,4,5,6]\n",
        "rev_array = array_1[::-1]\n",
        "print(rev_array)\n",
        "\n",
        "#2 .reverse()\n",
        "array_2 = [2,3,4,5,6]\n",
        "array_2.reverse()\n",
        "print(array_2)"
      ],
      "metadata": {
        "colab": {
          "base_uri": "https://localhost:8080/"
        },
        "id": "R5RYpU4F6n45",
        "outputId": "836e843b-8c19-48ad-c771-d6dc9361d8ab"
      },
      "execution_count": 55,
      "outputs": [
        {
          "output_type": "stream",
          "name": "stdout",
          "text": [
            "[6, 5, 4, 3, 3, 2]\n",
            "[6, 5, 4, 3, 2]\n"
          ]
        }
      ]
    },
    {
      "cell_type": "code",
      "source": [
        "list= [2,3,5,2,2,4,5,67,8,9,6]\n",
        "list.sort()\n",
        "print(list)"
      ],
      "metadata": {
        "colab": {
          "base_uri": "https://localhost:8080/"
        },
        "id": "7k8vsSfV-P7n",
        "outputId": "4c78ce6a-9d79-4881-af1c-771fb7ca0e9d"
      },
      "execution_count": 56,
      "outputs": [
        {
          "output_type": "stream",
          "name": "stdout",
          "text": [
            "[2, 2, 2, 3, 4, 5, 5, 6, 8, 9, 67]\n"
          ]
        }
      ]
    },
    {
      "cell_type": "code",
      "source": [
        ""
      ],
      "metadata": {
        "id": "EQN6wIvF-7i4"
      },
      "execution_count": null,
      "outputs": []
    }
  ]
}