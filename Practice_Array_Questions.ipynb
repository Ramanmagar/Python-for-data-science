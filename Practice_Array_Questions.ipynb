{
  "nbformat": 4,
  "nbformat_minor": 0,
  "metadata": {
    "colab": {
      "name": "Practice Array Questions.ipynb",
      "provenance": [],
      "authorship_tag": "ABX9TyO6mpnGd2rnLsGGBtEm6muV",
      "include_colab_link": true
    },
    "kernelspec": {
      "name": "python3",
      "display_name": "Python 3"
    },
    "language_info": {
      "name": "python"
    }
  },
  "cells": [
    {
      "cell_type": "markdown",
      "metadata": {
        "id": "view-in-github",
        "colab_type": "text"
      },
      "source": [
        "<a href=\"https://colab.research.google.com/github/Ramanmagar/Python-for-data-science/blob/main/Practice_Array_Questions.ipynb\" target=\"_parent\"><img src=\"https://colab.research.google.com/assets/colab-badge.svg\" alt=\"Open In Colab\"/></a>"
      ]
    },
    {
      "cell_type": "markdown",
      "source": [
        "Write a Python program to create an array of 5 integers and display the array items. Access individual element through indexes."
      ],
      "metadata": {
        "id": "ZL1FqH-_Q843"
      }
    },
    {
      "cell_type": "code",
      "execution_count": 6,
      "metadata": {
        "colab": {
          "base_uri": "https://localhost:8080/"
        },
        "id": "Lf2_BxRGPC3x",
        "outputId": "f198ca64-4976-4d31-8b05-5042eb69774f"
      },
      "outputs": [
        {
          "output_type": "stream",
          "name": "stdout",
          "text": [
            "2\n",
            "3\n",
            "4\n",
            "5\n",
            "6\n",
            "5\n"
          ]
        }
      ],
      "source": [
        "from array import *\n",
        "arr = array('i', [2,3,4,5,6])\n",
        "for i in arr:\n",
        "  print(i)\n",
        "print(arr[3])"
      ]
    },
    {
      "cell_type": "markdown",
      "source": [
        "Write a Python program to append a new item to the end of the array."
      ],
      "metadata": {
        "id": "bwpNvLkqRF2h"
      }
    },
    {
      "cell_type": "code",
      "source": [
        "from array import *\n",
        "array_append = array('i', [2,3,4,5,6])\n",
        "array_append.append(8)\n",
        "print(array_append)"
      ],
      "metadata": {
        "colab": {
          "base_uri": "https://localhost:8080/"
        },
        "id": "fnETEELOPX_0",
        "outputId": "c2845d98-5b14-4415-aeb7-25ce08ac6eb4"
      },
      "execution_count": 13,
      "outputs": [
        {
          "output_type": "stream",
          "name": "stdout",
          "text": [
            "array('i', [2, 3, 4, 5, 6, 8])\n"
          ]
        }
      ]
    },
    {
      "cell_type": "markdown",
      "source": [
        "Write a Python program to reverse the order of the items in the array."
      ],
      "metadata": {
        "id": "2EjqAUE_RkD8"
      }
    },
    {
      "cell_type": "code",
      "source": [
        "array_append = array('i', [2,3,4,5,6])\n",
        "array_append.reverse()\n",
        "print(array_append)"
      ],
      "metadata": {
        "colab": {
          "base_uri": "https://localhost:8080/"
        },
        "id": "LfpnLBn4QZQH",
        "outputId": "e375a6c5-9a52-4e0b-9c42-28e5491475fb"
      },
      "execution_count": 14,
      "outputs": [
        {
          "output_type": "stream",
          "name": "stdout",
          "text": [
            "array('i', [6, 5, 4, 3, 2])\n"
          ]
        }
      ]
    },
    {
      "cell_type": "markdown",
      "source": [
        "Write a Python program to get the length in bytes of one array item in the internal representation."
      ],
      "metadata": {
        "id": "NecWM6JIRpIM"
      }
    },
    {
      "cell_type": "code",
      "source": [
        "array_append = array('i', [2,3,4,5,6])\n",
        "print(len(array_append))\n",
        "print(str(array_append.itemsize))"
      ],
      "metadata": {
        "colab": {
          "base_uri": "https://localhost:8080/"
        },
        "id": "R5zfgh4eRIzn",
        "outputId": "a8222d15-886f-4f42-c957-d18d2b696010"
      },
      "execution_count": 17,
      "outputs": [
        {
          "output_type": "stream",
          "name": "stdout",
          "text": [
            "5\n",
            "4\n"
          ]
        }
      ]
    },
    {
      "cell_type": "markdown",
      "source": [
        "Write a Python program to get the current memory address and the length in elements of the buffer used to hold an array’s contents and also find the size of the memory buffer in bytes."
      ],
      "metadata": {
        "id": "TyFCFkCEVeLo"
      }
    },
    {
      "cell_type": "code",
      "source": [
        "array_append = array('i', [2,3,4,5,6])\n",
        "print(str(array_append.buffer_info()))\n",
        "print(str(array_append.buffer_info()[1]*array_append.itemsize))\n"
      ],
      "metadata": {
        "colab": {
          "base_uri": "https://localhost:8080/"
        },
        "id": "0ScETW91RIxh",
        "outputId": "66b2d487-4ffb-4252-b2ac-8ba5a362a084"
      },
      "execution_count": 33,
      "outputs": [
        {
          "output_type": "stream",
          "name": "stdout",
          "text": [
            "(139761883459728, 5)\n",
            "20\n"
          ]
        }
      ]
    },
    {
      "cell_type": "markdown",
      "source": [
        "Write a Python program to get the number of repeat element in an array."
      ],
      "metadata": {
        "id": "iF59ZDQDeqLM"
      }
    },
    {
      "cell_type": "code",
      "source": [
        "array_repeat = array('i', [2,3,4,3,4,5,6,7])\n",
        "print(array_repeat.count(4))"
      ],
      "metadata": {
        "colab": {
          "base_uri": "https://localhost:8080/"
        },
        "id": "SphNWAyQRIuo",
        "outputId": "3cfc3338-c7e7-43fb-d0ec-7c2374a1952f"
      },
      "execution_count": 37,
      "outputs": [
        {
          "output_type": "stream",
          "name": "stdout",
          "text": [
            "2\n"
          ]
        }
      ]
    },
    {
      "cell_type": "code",
      "source": [
        ""
      ],
      "metadata": {
        "id": "YSvcfaHmRIsa"
      },
      "execution_count": null,
      "outputs": []
    },
    {
      "cell_type": "code",
      "source": [
        ""
      ],
      "metadata": {
        "id": "a10CXY70RIqI"
      },
      "execution_count": null,
      "outputs": []
    },
    {
      "cell_type": "code",
      "source": [
        ""
      ],
      "metadata": {
        "id": "ktkaScTTRInr"
      },
      "execution_count": null,
      "outputs": []
    },
    {
      "cell_type": "code",
      "source": [
        ""
      ],
      "metadata": {
        "id": "O3JwINMgRIj2"
      },
      "execution_count": null,
      "outputs": []
    },
    {
      "cell_type": "code",
      "source": [
        ""
      ],
      "metadata": {
        "id": "AUhFjKqRRIf2"
      },
      "execution_count": null,
      "outputs": []
    },
    {
      "cell_type": "code",
      "source": [
        ""
      ],
      "metadata": {
        "id": "EVUDGAhVRIcV"
      },
      "execution_count": null,
      "outputs": []
    },
    {
      "cell_type": "code",
      "source": [
        ""
      ],
      "metadata": {
        "id": "VikATI1rRIZq"
      },
      "execution_count": null,
      "outputs": []
    },
    {
      "cell_type": "code",
      "source": [
        ""
      ],
      "metadata": {
        "id": "7aOyrkkRRIW6"
      },
      "execution_count": null,
      "outputs": []
    },
    {
      "cell_type": "code",
      "source": [
        ""
      ],
      "metadata": {
        "id": "fBXDzRCjRIUi"
      },
      "execution_count": null,
      "outputs": []
    }
  ]
}