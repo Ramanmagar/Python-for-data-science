{
  "nbformat": 4,
  "nbformat_minor": 0,
  "metadata": {
    "colab": {
      "name": "Question solved.ipynb",
      "provenance": [],
      "authorship_tag": "ABX9TyOvFx4JP9nv+MOWsRBilSv/",
      "include_colab_link": true
    },
    "kernelspec": {
      "name": "python3",
      "display_name": "Python 3"
    },
    "language_info": {
      "name": "python"
    }
  },
  "cells": [
    {
      "cell_type": "markdown",
      "metadata": {
        "id": "view-in-github",
        "colab_type": "text"
      },
      "source": [
        "<a href=\"https://colab.research.google.com/github/Ramanmagar/Python-for-data-science/blob/main/Question_solved.ipynb\" target=\"_parent\"><img src=\"https://colab.research.google.com/assets/colab-badge.svg\" alt=\"Open In Colab\"/></a>"
      ]
    },
    {
      "cell_type": "code",
      "execution_count": 2,
      "metadata": {
        "colab": {
          "base_uri": "https://localhost:8080/"
        },
        "id": "ZAxEf2NPFPdV",
        "outputId": "3ef7eaab-45c1-4c78-d9d3-785a1abd5f89"
      },
      "outputs": [
        {
          "output_type": "stream",
          "name": "stdout",
          "text": [
            "Name: Xyz\n"
          ]
        }
      ],
      "source": [
        "## How to create empty class \n",
        "class empty():\n",
        "  pass\n",
        "object = empty()\n",
        "object.Name = 'Xyz'\n",
        "print(\"Name:\",object.Name)\n"
      ]
    },
    {
      "cell_type": "markdown",
      "source": [
        "Write a program in Python to execute the Bubble sort algorithm."
      ],
      "metadata": {
        "id": "uxAGFNy-UWgV"
      }
    },
    {
      "cell_type": "code",
      "source": [
        "# Bubble sort in Python\n",
        "\n",
        "def bubbleSort(array):\n",
        "  \n",
        "  # loop to access each array element\n",
        "  for i in range(len(array)):\n",
        "\n",
        "    # loop to compare array elements\n",
        "    for j in range(0, len(array) - i - 1):\n",
        "\n",
        "      # compare two adjacent elements\n",
        "      # change > to < to sort in descending order\n",
        "      if array[j] > array[j + 1]:\n",
        "\n",
        "        # swapping elements if elements\n",
        "        # are not in the intended order\n",
        "        temp = array[j]\n",
        "        array[j] = array[j+1]\n",
        "        array[j+1] = temp\n",
        "\n",
        "\n",
        "data = [-2, 45, 0, 11, -9]\n",
        "\n",
        "bubbleSort(data)\n",
        "\n",
        "print('Sorted Array in Ascending Order:')\n",
        "print(data)"
      ],
      "metadata": {
        "colab": {
          "base_uri": "https://localhost:8080/"
        },
        "id": "TXYA5LVTXUA_",
        "outputId": "21dbf802-d4f0-4c27-9498-fd6fac2bdf8c"
      },
      "execution_count": 24,
      "outputs": [
        {
          "output_type": "stream",
          "name": "stdout",
          "text": [
            "Sorted Array in Ascending Order:\n",
            "[-9, -2, 0, 11, 45]\n"
          ]
        }
      ]
    },
    {
      "cell_type": "code",
      "source": [
        "def bubbleSort(array):\n",
        "\n",
        "\n",
        "  for i in range(len(array)):\n",
        "    for j in range(0, len(array)-i-1):\n",
        "      if array[j] > array[j+1]:\n",
        "\n",
        "         temp = array[j]\n",
        "         array[j] = array[j+1]\n",
        "         array[j+1] = temp\n",
        "given_list = [-15,75,-45,25,0]\n",
        "bubbleSort(given_list)\n",
        "print(given_list)\n",
        "\n",
        "\n",
        "\n",
        "\n",
        "        # array[j+1] = temp\n",
        "        # temp = array[j+1]\n"
      ],
      "metadata": {
        "colab": {
          "base_uri": "https://localhost:8080/"
        },
        "id": "DAPBdFIJYAKn",
        "outputId": "80550a8b-9ab3-4775-da61-4a64c6d3706d"
      },
      "execution_count": 26,
      "outputs": [
        {
          "output_type": "stream",
          "name": "stdout",
          "text": [
            "[-45, -15, 0, 25, 75]\n"
          ]
        }
      ]
    },
    {
      "cell_type": "code",
      "source": [
        ""
      ],
      "metadata": {
        "id": "hlgM_owe-Dki"
      },
      "execution_count": null,
      "outputs": []
    }
  ]
}